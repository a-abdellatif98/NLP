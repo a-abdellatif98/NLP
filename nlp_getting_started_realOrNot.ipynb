{
  "nbformat": 4,
  "nbformat_minor": 0,
  "metadata": {
    "colab": {
      "name": "nlp-getting-started-realOrNot.ipynb",
      "provenance": [],
      "collapsed_sections": []
    },
    "kernelspec": {
      "name": "python3",
      "display_name": "Python 3"
    },
    "accelerator": "GPU"
  },
  "cells": [
    {
      "cell_type": "code",
      "metadata": {
        "id": "UbBc7xX_e5_3",
        "colab_type": "code",
        "colab": {
          "base_uri": "https://localhost:8080/",
          "height": 34
        },
        "outputId": "f17404e9-8cc7-48f6-9ea1-a4ec28c3975e"
      },
      "source": [
        "%cd '/content/drive/My Drive/NLP/twitter'"
      ],
      "execution_count": 44,
      "outputs": [
        {
          "output_type": "stream",
          "text": [
            "/content/drive/My Drive/NLP/twitter\n"
          ],
          "name": "stdout"
        }
      ]
    },
    {
      "cell_type": "code",
      "metadata": {
        "id": "CNubY0OHfw7P",
        "colab_type": "code",
        "colab": {
          "base_uri": "https://localhost:8080/",
          "height": 374
        },
        "outputId": "2f9801a1-e37a-4942-bead-d684802aed7d"
      },
      "source": [
        "!pip install fastai2 --quiet\n",
        "!pip install kaggle --quiet\n",
        "\n",
        "from fastai2.text.all import *\n",
        "\n",
        "import warnings\n",
        "warnings.filterwarnings('ignore')"
      ],
      "execution_count": 45,
      "outputs": [
        {
          "output_type": "error",
          "ename": "KeyboardInterrupt",
          "evalue": "ignored",
          "traceback": [
            "\u001b[0;31m---------------------------------------------------------------------------\u001b[0m",
            "\u001b[0;31mKeyboardInterrupt\u001b[0m                         Traceback (most recent call last)",
            "\u001b[0;32m<ipython-input-45-26814abcc7c3>\u001b[0m in \u001b[0;36m<module>\u001b[0;34m()\u001b[0m\n\u001b[0;32m----> 1\u001b[0;31m \u001b[0mget_ipython\u001b[0m\u001b[0;34m(\u001b[0m\u001b[0;34m)\u001b[0m\u001b[0;34m.\u001b[0m\u001b[0msystem\u001b[0m\u001b[0;34m(\u001b[0m\u001b[0;34m'pip install fastai2 --quiet'\u001b[0m\u001b[0;34m)\u001b[0m\u001b[0;34m\u001b[0m\u001b[0;34m\u001b[0m\u001b[0m\n\u001b[0m\u001b[1;32m      2\u001b[0m \u001b[0mget_ipython\u001b[0m\u001b[0;34m(\u001b[0m\u001b[0;34m)\u001b[0m\u001b[0;34m.\u001b[0m\u001b[0msystem\u001b[0m\u001b[0;34m(\u001b[0m\u001b[0;34m'pip install kaggle --quiet'\u001b[0m\u001b[0;34m)\u001b[0m\u001b[0;34m\u001b[0m\u001b[0;34m\u001b[0m\u001b[0m\n\u001b[1;32m      3\u001b[0m \u001b[0;34m\u001b[0m\u001b[0m\n\u001b[1;32m      4\u001b[0m \u001b[0;32mfrom\u001b[0m \u001b[0mfastai2\u001b[0m\u001b[0;34m.\u001b[0m\u001b[0mtext\u001b[0m\u001b[0;34m.\u001b[0m\u001b[0mall\u001b[0m \u001b[0;32mimport\u001b[0m \u001b[0;34m*\u001b[0m\u001b[0;34m\u001b[0m\u001b[0;34m\u001b[0m\u001b[0m\n\u001b[1;32m      5\u001b[0m \u001b[0;34m\u001b[0m\u001b[0m\n",
            "\u001b[0;32m/usr/local/lib/python3.6/dist-packages/google/colab/_shell.py\u001b[0m in \u001b[0;36msystem\u001b[0;34m(self, *args, **kwargs)\u001b[0m\n\u001b[1;32m    100\u001b[0m       \u001b[0mkwargs\u001b[0m\u001b[0;34m.\u001b[0m\u001b[0mupdate\u001b[0m\u001b[0;34m(\u001b[0m\u001b[0;34m{\u001b[0m\u001b[0;34m'also_return_output'\u001b[0m\u001b[0;34m:\u001b[0m \u001b[0;32mTrue\u001b[0m\u001b[0;34m}\u001b[0m\u001b[0;34m)\u001b[0m\u001b[0;34m\u001b[0m\u001b[0;34m\u001b[0m\u001b[0m\n\u001b[1;32m    101\u001b[0m \u001b[0;34m\u001b[0m\u001b[0m\n\u001b[0;32m--> 102\u001b[0;31m     \u001b[0moutput\u001b[0m \u001b[0;34m=\u001b[0m \u001b[0m_system_commands\u001b[0m\u001b[0;34m.\u001b[0m\u001b[0m_system_compat\u001b[0m\u001b[0;34m(\u001b[0m\u001b[0mself\u001b[0m\u001b[0;34m,\u001b[0m \u001b[0;34m*\u001b[0m\u001b[0margs\u001b[0m\u001b[0;34m,\u001b[0m \u001b[0;34m**\u001b[0m\u001b[0mkwargs\u001b[0m\u001b[0;34m)\u001b[0m  \u001b[0;31m# pylint:disable=protected-access\u001b[0m\u001b[0;34m\u001b[0m\u001b[0;34m\u001b[0m\u001b[0m\n\u001b[0m\u001b[1;32m    103\u001b[0m \u001b[0;34m\u001b[0m\u001b[0m\n\u001b[1;32m    104\u001b[0m     \u001b[0;32mif\u001b[0m \u001b[0mpip_warn\u001b[0m\u001b[0;34m:\u001b[0m\u001b[0;34m\u001b[0m\u001b[0;34m\u001b[0m\u001b[0m\n",
            "\u001b[0;32m/usr/local/lib/python3.6/dist-packages/google/colab/_system_commands.py\u001b[0m in \u001b[0;36m_system_compat\u001b[0;34m(shell, cmd, also_return_output)\u001b[0m\n\u001b[1;32m    436\u001b[0m   \u001b[0;31m# stack.\u001b[0m\u001b[0;34m\u001b[0m\u001b[0;34m\u001b[0m\u001b[0;34m\u001b[0m\u001b[0m\n\u001b[1;32m    437\u001b[0m   result = _run_command(\n\u001b[0;32m--> 438\u001b[0;31m       shell.var_expand(cmd, depth=2), clear_streamed_output=False)\n\u001b[0m\u001b[1;32m    439\u001b[0m   \u001b[0mshell\u001b[0m\u001b[0;34m.\u001b[0m\u001b[0muser_ns\u001b[0m\u001b[0;34m[\u001b[0m\u001b[0;34m'_exit_code'\u001b[0m\u001b[0;34m]\u001b[0m \u001b[0;34m=\u001b[0m \u001b[0mresult\u001b[0m\u001b[0;34m.\u001b[0m\u001b[0mreturncode\u001b[0m\u001b[0;34m\u001b[0m\u001b[0;34m\u001b[0m\u001b[0m\n\u001b[1;32m    440\u001b[0m   \u001b[0;32mif\u001b[0m \u001b[0;34m-\u001b[0m\u001b[0mresult\u001b[0m\u001b[0;34m.\u001b[0m\u001b[0mreturncode\u001b[0m \u001b[0;32min\u001b[0m \u001b[0m_INTERRUPTED_SIGNALS\u001b[0m\u001b[0;34m:\u001b[0m\u001b[0;34m\u001b[0m\u001b[0;34m\u001b[0m\u001b[0m\n",
            "\u001b[0;32m/usr/local/lib/python3.6/dist-packages/google/colab/_system_commands.py\u001b[0m in \u001b[0;36m_run_command\u001b[0;34m(cmd, clear_streamed_output)\u001b[0m\n\u001b[1;32m    193\u001b[0m       \u001b[0mos\u001b[0m\u001b[0;34m.\u001b[0m\u001b[0mclose\u001b[0m\u001b[0;34m(\u001b[0m\u001b[0mchild_pty\u001b[0m\u001b[0;34m)\u001b[0m\u001b[0;34m\u001b[0m\u001b[0;34m\u001b[0m\u001b[0m\n\u001b[1;32m    194\u001b[0m \u001b[0;34m\u001b[0m\u001b[0m\n\u001b[0;32m--> 195\u001b[0;31m       \u001b[0;32mreturn\u001b[0m \u001b[0m_monitor_process\u001b[0m\u001b[0;34m(\u001b[0m\u001b[0mparent_pty\u001b[0m\u001b[0;34m,\u001b[0m \u001b[0mepoll\u001b[0m\u001b[0;34m,\u001b[0m \u001b[0mp\u001b[0m\u001b[0;34m,\u001b[0m \u001b[0mcmd\u001b[0m\u001b[0;34m,\u001b[0m \u001b[0mupdate_stdin_widget\u001b[0m\u001b[0;34m)\u001b[0m\u001b[0;34m\u001b[0m\u001b[0;34m\u001b[0m\u001b[0m\n\u001b[0m\u001b[1;32m    196\u001b[0m   \u001b[0;32mfinally\u001b[0m\u001b[0;34m:\u001b[0m\u001b[0;34m\u001b[0m\u001b[0;34m\u001b[0m\u001b[0m\n\u001b[1;32m    197\u001b[0m     \u001b[0mepoll\u001b[0m\u001b[0;34m.\u001b[0m\u001b[0mclose\u001b[0m\u001b[0;34m(\u001b[0m\u001b[0;34m)\u001b[0m\u001b[0;34m\u001b[0m\u001b[0;34m\u001b[0m\u001b[0m\n",
            "\u001b[0;32m/usr/lib/python3.6/contextlib.py\u001b[0m in \u001b[0;36m__exit__\u001b[0;34m(self, type, value, traceback)\u001b[0m\n\u001b[1;32m     86\u001b[0m         \u001b[0;32mif\u001b[0m \u001b[0mtype\u001b[0m \u001b[0;32mis\u001b[0m \u001b[0;32mNone\u001b[0m\u001b[0;34m:\u001b[0m\u001b[0;34m\u001b[0m\u001b[0;34m\u001b[0m\u001b[0m\n\u001b[1;32m     87\u001b[0m             \u001b[0;32mtry\u001b[0m\u001b[0;34m:\u001b[0m\u001b[0;34m\u001b[0m\u001b[0;34m\u001b[0m\u001b[0m\n\u001b[0;32m---> 88\u001b[0;31m                 \u001b[0mnext\u001b[0m\u001b[0;34m(\u001b[0m\u001b[0mself\u001b[0m\u001b[0;34m.\u001b[0m\u001b[0mgen\u001b[0m\u001b[0;34m)\u001b[0m\u001b[0;34m\u001b[0m\u001b[0;34m\u001b[0m\u001b[0m\n\u001b[0m\u001b[1;32m     89\u001b[0m             \u001b[0;32mexcept\u001b[0m \u001b[0mStopIteration\u001b[0m\u001b[0;34m:\u001b[0m\u001b[0;34m\u001b[0m\u001b[0;34m\u001b[0m\u001b[0m\n\u001b[1;32m     90\u001b[0m                 \u001b[0;32mreturn\u001b[0m \u001b[0;32mFalse\u001b[0m\u001b[0;34m\u001b[0m\u001b[0;34m\u001b[0m\u001b[0m\n",
            "\u001b[0;32m/usr/local/lib/python3.6/dist-packages/google/colab/_system_commands.py\u001b[0m in \u001b[0;36m_display_stdin_widget\u001b[0;34m(delay_millis)\u001b[0m\n\u001b[1;32m    353\u001b[0m \u001b[0;34m\u001b[0m\u001b[0m\n\u001b[1;32m    354\u001b[0m   \u001b[0mhide_args\u001b[0m \u001b[0;34m=\u001b[0m \u001b[0;34m[\u001b[0m\u001b[0;34m'cell_remove_stdin'\u001b[0m\u001b[0;34m,\u001b[0m \u001b[0;34m{\u001b[0m\u001b[0;34m}\u001b[0m\u001b[0;34m]\u001b[0m\u001b[0;34m\u001b[0m\u001b[0;34m\u001b[0m\u001b[0m\n\u001b[0;32m--> 355\u001b[0;31m   \u001b[0m_message\u001b[0m\u001b[0;34m.\u001b[0m\u001b[0mblocking_request\u001b[0m\u001b[0;34m(\u001b[0m\u001b[0;34m*\u001b[0m\u001b[0mhide_args\u001b[0m\u001b[0;34m,\u001b[0m \u001b[0mparent\u001b[0m\u001b[0;34m=\u001b[0m\u001b[0mshell\u001b[0m\u001b[0;34m.\u001b[0m\u001b[0mparent_header\u001b[0m\u001b[0;34m)\u001b[0m\u001b[0;34m\u001b[0m\u001b[0;34m\u001b[0m\u001b[0m\n\u001b[0m\u001b[1;32m    356\u001b[0m \u001b[0;34m\u001b[0m\u001b[0m\n\u001b[1;32m    357\u001b[0m \u001b[0;34m\u001b[0m\u001b[0m\n",
            "\u001b[0;32m/usr/local/lib/python3.6/dist-packages/google/colab/_message.py\u001b[0m in \u001b[0;36mblocking_request\u001b[0;34m(request_type, request, timeout_sec, parent)\u001b[0m\n\u001b[1;32m    169\u001b[0m   \u001b[0;31m# unique.\u001b[0m\u001b[0;34m\u001b[0m\u001b[0;34m\u001b[0m\u001b[0;34m\u001b[0m\u001b[0m\n\u001b[1;32m    170\u001b[0m   \u001b[0mrequest_id\u001b[0m \u001b[0;34m=\u001b[0m \u001b[0msend_request\u001b[0m\u001b[0;34m(\u001b[0m\u001b[0mrequest_type\u001b[0m\u001b[0;34m,\u001b[0m \u001b[0mrequest\u001b[0m\u001b[0;34m,\u001b[0m \u001b[0mparent\u001b[0m\u001b[0;34m=\u001b[0m\u001b[0mparent\u001b[0m\u001b[0;34m)\u001b[0m\u001b[0;34m\u001b[0m\u001b[0;34m\u001b[0m\u001b[0m\n\u001b[0;32m--> 171\u001b[0;31m   \u001b[0;32mreturn\u001b[0m \u001b[0mread_reply_from_input\u001b[0m\u001b[0;34m(\u001b[0m\u001b[0mrequest_id\u001b[0m\u001b[0;34m,\u001b[0m \u001b[0mtimeout_sec\u001b[0m\u001b[0;34m)\u001b[0m\u001b[0;34m\u001b[0m\u001b[0;34m\u001b[0m\u001b[0m\n\u001b[0m",
            "\u001b[0;32m/usr/local/lib/python3.6/dist-packages/google/colab/_message.py\u001b[0m in \u001b[0;36mread_reply_from_input\u001b[0;34m(message_id, timeout_sec)\u001b[0m\n\u001b[1;32m     99\u001b[0m     \u001b[0mreply\u001b[0m \u001b[0;34m=\u001b[0m \u001b[0m_read_next_input_message\u001b[0m\u001b[0;34m(\u001b[0m\u001b[0;34m)\u001b[0m\u001b[0;34m\u001b[0m\u001b[0;34m\u001b[0m\u001b[0m\n\u001b[1;32m    100\u001b[0m     \u001b[0;32mif\u001b[0m \u001b[0mreply\u001b[0m \u001b[0;34m==\u001b[0m \u001b[0m_NOT_READY\u001b[0m \u001b[0;32mor\u001b[0m \u001b[0;32mnot\u001b[0m \u001b[0misinstance\u001b[0m\u001b[0;34m(\u001b[0m\u001b[0mreply\u001b[0m\u001b[0;34m,\u001b[0m \u001b[0mdict\u001b[0m\u001b[0;34m)\u001b[0m\u001b[0;34m:\u001b[0m\u001b[0;34m\u001b[0m\u001b[0;34m\u001b[0m\u001b[0m\n\u001b[0;32m--> 101\u001b[0;31m       \u001b[0mtime\u001b[0m\u001b[0;34m.\u001b[0m\u001b[0msleep\u001b[0m\u001b[0;34m(\u001b[0m\u001b[0;36m0.025\u001b[0m\u001b[0;34m)\u001b[0m\u001b[0;34m\u001b[0m\u001b[0;34m\u001b[0m\u001b[0m\n\u001b[0m\u001b[1;32m    102\u001b[0m       \u001b[0;32mcontinue\u001b[0m\u001b[0;34m\u001b[0m\u001b[0;34m\u001b[0m\u001b[0m\n\u001b[1;32m    103\u001b[0m     if (reply.get('type') == 'colab_reply' and\n",
            "\u001b[0;31mKeyboardInterrupt\u001b[0m: "
          ]
        }
      ]
    },
    {
      "cell_type": "code",
      "metadata": {
        "id": "SW2D4E96yvAz",
        "colab_type": "code",
        "colab": {}
      },
      "source": [
        "!ls"
      ],
      "execution_count": null,
      "outputs": []
    },
    {
      "cell_type": "code",
      "metadata": {
        "id": "-PTLn-f7fXd4",
        "colab_type": "code",
        "colab": {}
      },
      "source": [
        "train = pd.read_csv('/content/drive/My Drive/NLP/twitter/train.csv')\n",
        "test = pd.read_csv('/content/drive/My Drive/NLP/twitter/test.csv')"
      ],
      "execution_count": 46,
      "outputs": []
    },
    {
      "cell_type": "code",
      "metadata": {
        "id": "PpTVxlMgf4gT",
        "colab_type": "code",
        "colab": {
          "base_uri": "https://localhost:8080/",
          "height": 204
        },
        "outputId": "e61d4ca6-2bc6-4ef8-a479-1cb86af828af"
      },
      "source": [
        "train.head()"
      ],
      "execution_count": 47,
      "outputs": [
        {
          "output_type": "execute_result",
          "data": {
            "text/html": [
              "<div>\n",
              "<style scoped>\n",
              "    .dataframe tbody tr th:only-of-type {\n",
              "        vertical-align: middle;\n",
              "    }\n",
              "\n",
              "    .dataframe tbody tr th {\n",
              "        vertical-align: top;\n",
              "    }\n",
              "\n",
              "    .dataframe thead th {\n",
              "        text-align: right;\n",
              "    }\n",
              "</style>\n",
              "<table border=\"1\" class=\"dataframe\">\n",
              "  <thead>\n",
              "    <tr style=\"text-align: right;\">\n",
              "      <th></th>\n",
              "      <th>id</th>\n",
              "      <th>keyword</th>\n",
              "      <th>location</th>\n",
              "      <th>text</th>\n",
              "      <th>target</th>\n",
              "    </tr>\n",
              "  </thead>\n",
              "  <tbody>\n",
              "    <tr>\n",
              "      <th>0</th>\n",
              "      <td>1</td>\n",
              "      <td>NaN</td>\n",
              "      <td>NaN</td>\n",
              "      <td>Our Deeds are the Reason of this #earthquake May ALLAH Forgive us all</td>\n",
              "      <td>1</td>\n",
              "    </tr>\n",
              "    <tr>\n",
              "      <th>1</th>\n",
              "      <td>4</td>\n",
              "      <td>NaN</td>\n",
              "      <td>NaN</td>\n",
              "      <td>Forest fire near La Ronge Sask. Canada</td>\n",
              "      <td>1</td>\n",
              "    </tr>\n",
              "    <tr>\n",
              "      <th>2</th>\n",
              "      <td>5</td>\n",
              "      <td>NaN</td>\n",
              "      <td>NaN</td>\n",
              "      <td>All residents asked to 'shelter in place' are being notified by officers. No other evacuation or shelter in place orders are expected</td>\n",
              "      <td>1</td>\n",
              "    </tr>\n",
              "    <tr>\n",
              "      <th>3</th>\n",
              "      <td>6</td>\n",
              "      <td>NaN</td>\n",
              "      <td>NaN</td>\n",
              "      <td>13,000 people receive #wildfires evacuation orders in California</td>\n",
              "      <td>1</td>\n",
              "    </tr>\n",
              "    <tr>\n",
              "      <th>4</th>\n",
              "      <td>7</td>\n",
              "      <td>NaN</td>\n",
              "      <td>NaN</td>\n",
              "      <td>Just got sent this photo from Ruby #Alaska as smoke from #wildfires pours into a school</td>\n",
              "      <td>1</td>\n",
              "    </tr>\n",
              "  </tbody>\n",
              "</table>\n",
              "</div>"
            ],
            "text/plain": [
              "   id  ... target\n",
              "0   1  ...      1\n",
              "1   4  ...      1\n",
              "2   5  ...      1\n",
              "3   6  ...      1\n",
              "4   7  ...      1\n",
              "\n",
              "[5 rows x 5 columns]"
            ]
          },
          "metadata": {
            "tags": []
          },
          "execution_count": 47
        }
      ]
    },
    {
      "cell_type": "code",
      "metadata": {
        "id": "m7jr8_J_f5La",
        "colab_type": "code",
        "colab": {
          "base_uri": "https://localhost:8080/",
          "height": 221
        },
        "outputId": "03919872-bd59-45f3-d0f5-f8304da5ebf9"
      },
      "source": [
        "train['text'].value_counts()"
      ],
      "execution_count": 68,
      "outputs": [
        {
          "output_type": "execute_result",
          "data": {
            "text/plain": [
              "11-Year-Old Boy Charged With Manslaughter of Toddler: Report: An 11-year-old boy has been charged with manslaughter over the fatal sh...        10\n",
              "The Prophet (peace be upon him) said 'Save yourself from Hellfire even if it is by giving half a date in charity.'                               6\n",
              "He came to a land which was engulfed in tribal war and turned it into a land of peace i.e. Madinah. #ProphetMuhammad #islam                      6\n",
              "#Bestnaijamade: 16yr old PKK suicide bomber who detonated bomb in ... http://t.co/KSAwlYuX02 bestnaijamade bestnaijamade bestnaijamade beÛ_     6\n",
              "Madhya Pradesh Train Derailment: Village Youth Saved Many Lives                                                                                  5\n",
              "                                                                                                                                                ..\n",
              "Literally trapped in my room Cuz my bathroom being remodeled. The only exit is through a window                                                  1\n",
              "Listening to Blowers and Tuffers on the Aussie batting collapse at Trent Bridge reminds me why I love @bbctms! Wonderful stuff! #ENGvAUS         1\n",
              "Good that the police are taking care of this and also have extra security  #HarryBeCareful                                                       1\n",
              "See Aug 4 2015 PoconoRecord @EmergencyMgtMag - How Many Households Have an #Emergency Plan? | http://t.co/7zlsUmIess http://t.co/TdccH01N7q      1\n",
              "Wen I finally get the girl I want I'm flooding yall wit all pics of us Rs tho                                                                    1\n",
              "Name: text, Length: 7503, dtype: int64"
            ]
          },
          "metadata": {
            "tags": []
          },
          "execution_count": 68
        }
      ]
    },
    {
      "cell_type": "code",
      "metadata": {
        "id": "k-UudIyDf8Yr",
        "colab_type": "code",
        "colab": {
          "base_uri": "https://localhost:8080/",
          "height": 204
        },
        "outputId": "24fd6680-033c-48c1-ac7d-8c759cb1f4da"
      },
      "source": [
        "test.head()"
      ],
      "execution_count": 69,
      "outputs": [
        {
          "output_type": "execute_result",
          "data": {
            "text/html": [
              "<div>\n",
              "<style scoped>\n",
              "    .dataframe tbody tr th:only-of-type {\n",
              "        vertical-align: middle;\n",
              "    }\n",
              "\n",
              "    .dataframe tbody tr th {\n",
              "        vertical-align: top;\n",
              "    }\n",
              "\n",
              "    .dataframe thead th {\n",
              "        text-align: right;\n",
              "    }\n",
              "</style>\n",
              "<table border=\"1\" class=\"dataframe\">\n",
              "  <thead>\n",
              "    <tr style=\"text-align: right;\">\n",
              "      <th></th>\n",
              "      <th>id</th>\n",
              "      <th>keyword</th>\n",
              "      <th>location</th>\n",
              "      <th>text</th>\n",
              "    </tr>\n",
              "  </thead>\n",
              "  <tbody>\n",
              "    <tr>\n",
              "      <th>0</th>\n",
              "      <td>0</td>\n",
              "      <td>NaN</td>\n",
              "      <td>NaN</td>\n",
              "      <td>Just happened a terrible car crash</td>\n",
              "    </tr>\n",
              "    <tr>\n",
              "      <th>1</th>\n",
              "      <td>2</td>\n",
              "      <td>NaN</td>\n",
              "      <td>NaN</td>\n",
              "      <td>Heard about #earthquake is different cities, stay safe everyone.</td>\n",
              "    </tr>\n",
              "    <tr>\n",
              "      <th>2</th>\n",
              "      <td>3</td>\n",
              "      <td>NaN</td>\n",
              "      <td>NaN</td>\n",
              "      <td>there is a forest fire at spot pond, geese are fleeing across the street, I cannot save them all</td>\n",
              "    </tr>\n",
              "    <tr>\n",
              "      <th>3</th>\n",
              "      <td>9</td>\n",
              "      <td>NaN</td>\n",
              "      <td>NaN</td>\n",
              "      <td>Apocalypse lighting. #Spokane #wildfires</td>\n",
              "    </tr>\n",
              "    <tr>\n",
              "      <th>4</th>\n",
              "      <td>11</td>\n",
              "      <td>NaN</td>\n",
              "      <td>NaN</td>\n",
              "      <td>Typhoon Soudelor kills 28 in China and Taiwan</td>\n",
              "    </tr>\n",
              "  </tbody>\n",
              "</table>\n",
              "</div>"
            ],
            "text/plain": [
              "   id  ...                                                                                              text\n",
              "0   0  ...                                                                Just happened a terrible car crash\n",
              "1   2  ...                                  Heard about #earthquake is different cities, stay safe everyone.\n",
              "2   3  ...  there is a forest fire at spot pond, geese are fleeing across the street, I cannot save them all\n",
              "3   9  ...                                                          Apocalypse lighting. #Spokane #wildfires\n",
              "4  11  ...                                                     Typhoon Soudelor kills 28 in China and Taiwan\n",
              "\n",
              "[5 rows x 4 columns]"
            ]
          },
          "metadata": {
            "tags": []
          },
          "execution_count": 69
        }
      ]
    },
    {
      "cell_type": "code",
      "metadata": {
        "id": "HMjhnBeMf-ev",
        "colab_type": "code",
        "colab": {
          "base_uri": "https://localhost:8080/",
          "height": 35
        },
        "outputId": "a68cb098-8fcd-41ed-c4ec-8aa3ecf498cd"
      },
      "source": [
        "txt = train['text'].iloc[0]\n",
        "txt\n"
      ],
      "execution_count": 70,
      "outputs": [
        {
          "output_type": "execute_result",
          "data": {
            "application/vnd.google.colaboratory.intrinsic+json": {
              "type": "string"
            },
            "text/plain": [
              "'Our Deeds are the Reason of this #earthquake May ALLAH Forgive us all'"
            ]
          },
          "metadata": {
            "tags": []
          },
          "execution_count": 70
        }
      ]
    },
    {
      "cell_type": "code",
      "metadata": {
        "id": "835AAniDgCol",
        "colab_type": "code",
        "colab": {
          "base_uri": "https://localhost:8080/",
          "height": 34
        },
        "outputId": "95182082-64e3-4480-c3c1-3bfc8382b89e"
      },
      "source": [
        "# Initializing the default tokenizer used in Fastai which is that of Spacy called `WordTokenizer`\n",
        "spacy = WordTokenizer() \n",
        "\n",
        "# Wrapping the Spacy tokenizer with a custom Fastai function to make some custom changes to the tokenizer\n",
        "tkn = Tokenizer(spacy) \n",
        "\n",
        "tkn(txt)\n"
      ],
      "execution_count": 71,
      "outputs": [
        {
          "output_type": "execute_result",
          "data": {
            "text/plain": [
              "(#21) ['xxbos','xxmaj','our','xxmaj','deeds','are','the','xxmaj','reason','of'...]"
            ]
          },
          "metadata": {
            "tags": []
          },
          "execution_count": 71
        }
      ]
    },
    {
      "cell_type": "code",
      "metadata": {
        "id": "6AoGghGDgFUE",
        "colab_type": "code",
        "colab": {
          "base_uri": "https://localhost:8080/",
          "height": 54
        },
        "outputId": "346091cd-bf81-43d7-d848-75fd7c7ffd26"
      },
      "source": [
        "txts = L([i for i in train['text']])\n",
        "txts"
      ],
      "execution_count": 72,
      "outputs": [
        {
          "output_type": "execute_result",
          "data": {
            "text/plain": [
              "(#7613) ['Our Deeds are the Reason of this #earthquake May ALLAH Forgive us all','Forest fire near La Ronge Sask. Canada',\"All residents asked to 'shelter in place' are being notified by officers. No other evacuation or shelter in place orders are expected\",'13,000 people receive #wildfires evacuation orders in California ','Just got sent this photo from Ruby #Alaska as smoke from #wildfires pours into a school ','#RockyFire Update => California Hwy. 20 closed in both directions due to Lake County fire - #CAfire #wildfires','#flood #disaster Heavy rain causes flash flooding of streets in Manitou, Colorado Springs areas',\"I'm on top of the hill and I can see a fire in the woods...\",\"There's an emergency evacuation happening now in the building across the street\",\"I'm afraid that the tornado is coming to our area...\"...]"
            ]
          },
          "metadata": {
            "tags": []
          },
          "execution_count": 72
        }
      ]
    },
    {
      "cell_type": "code",
      "metadata": {
        "id": "7DAfK5B7gHoH",
        "colab_type": "code",
        "colab": {
          "base_uri": "https://localhost:8080/",
          "height": 34
        },
        "outputId": "e1ac004f-809f-4db0-abd2-521a03f71e7a"
      },
      "source": [
        "# Setting up a tokenizer on the entire dataframe 'train'\n",
        "tok = Tokenizer.from_df(train)\n",
        "tok.setup(train)\n",
        "\n",
        "toks = txts.map(tok)\n",
        "toks[5]"
      ],
      "execution_count": 73,
      "outputs": [
        {
          "output_type": "execute_result",
          "data": {
            "text/plain": [
              "(#29) ['xxbos','#','rockyfire','xxmaj','update','=','>','xxmaj','california','xxmaj'...]"
            ]
          },
          "metadata": {
            "tags": []
          },
          "execution_count": 73
        }
      ]
    },
    {
      "cell_type": "code",
      "metadata": {
        "id": "IRamBR0tFzao",
        "colab_type": "code",
        "colab": {
          "base_uri": "https://localhost:8080/",
          "height": 34
        },
        "outputId": "64905c7f-0a06-42a8-ccba-da1101ac2104"
      },
      "source": [
        "toks[1000]"
      ],
      "execution_count": 74,
      "outputs": [
        {
          "output_type": "execute_result",
          "data": {
            "text/plain": [
              "(#20) ['xxbos','#','ovofest','xxmaj','drake','straight','body','bagging','xxmaj','meek'...]"
            ]
          },
          "metadata": {
            "tags": []
          },
          "execution_count": 74
        }
      ]
    },
    {
      "cell_type": "code",
      "metadata": {
        "id": "kVPszepUgMID",
        "colab_type": "code",
        "colab": {
          "base_uri": "https://localhost:8080/",
          "height": 35
        },
        "outputId": "c9e31a9b-155e-4f59-aa58-25992eab9551"
      },
      "source": [
        "tok.decode(toks[0])\n"
      ],
      "execution_count": 75,
      "outputs": [
        {
          "output_type": "execute_result",
          "data": {
            "application/vnd.google.colaboratory.intrinsic+json": {
              "type": "string"
            },
            "text/plain": [
              "'xxbos xxmaj our xxmaj deeds are the xxmaj reason of this # earthquake xxmaj may xxup allah xxmaj forgive us all'"
            ]
          },
          "metadata": {
            "tags": []
          },
          "execution_count": 75
        }
      ]
    },
    {
      "cell_type": "code",
      "metadata": {
        "id": "FDfoGz2KgTUC",
        "colab_type": "code",
        "colab": {
          "base_uri": "https://localhost:8080/",
          "height": 51
        },
        "outputId": "f0449ebf-61f5-4e7c-f628-45269971cb81"
      },
      "source": [
        "num = Numericalize()\n",
        "num.setup(toks)\n",
        "nums = toks.map(num)\n",
        "nums[0][:10000]"
      ],
      "execution_count": 76,
      "outputs": [
        {
          "output_type": "execute_result",
          "data": {
            "text/plain": [
              "tensor([   2,    8,  150,    8,    0,   43,   14,    8,  884,   19,   39,   13,\n",
              "         300,    8,  169,    7, 1620,    8,    0,  120,   65])"
            ]
          },
          "metadata": {
            "tags": []
          },
          "execution_count": 76
        }
      ]
    },
    {
      "cell_type": "code",
      "metadata": {
        "id": "sqBt9_j7gXPn",
        "colab_type": "code",
        "colab": {
          "base_uri": "https://localhost:8080/",
          "height": 51
        },
        "outputId": "5852905a-02a6-4e0b-bcab-a6ce1797ef78"
      },
      "source": [
        "num.encodes(toks[0])"
      ],
      "execution_count": 77,
      "outputs": [
        {
          "output_type": "execute_result",
          "data": {
            "text/plain": [
              "TensorText([   2,    8,  150,    8,    0,   43,   14,    8,  884,   19,   39,   13,\n",
              "         300,    8,  169,    7, 1620,    8,    0,  120,   65])"
            ]
          },
          "metadata": {
            "tags": []
          },
          "execution_count": 77
        }
      ]
    },
    {
      "cell_type": "code",
      "metadata": {
        "id": "isQg15AkgaA4",
        "colab_type": "code",
        "colab": {
          "base_uri": "https://localhost:8080/",
          "height": 34
        },
        "outputId": "152f0cf3-f8ff-42fa-e897-c734f9e196bb"
      },
      "source": [
        "num.decode(nums[0][:100])"
      ],
      "execution_count": 78,
      "outputs": [
        {
          "output_type": "execute_result",
          "data": {
            "text/plain": [
              "(#21) ['xxbos','xxmaj','our','xxmaj','xxunk','are','the','xxmaj','reason','of'...]"
            ]
          },
          "metadata": {
            "tags": []
          },
          "execution_count": 78
        }
      ]
    },
    {
      "cell_type": "code",
      "metadata": {
        "id": "pLuVmFXxgdqN",
        "colab_type": "code",
        "colab": {
          "base_uri": "https://localhost:8080/",
          "height": 204
        },
        "outputId": "9117ee55-8735-471f-db2a-1d5d8de5f944"
      },
      "source": [
        "# dataset for fine-tuning language model which only needs the text data\n",
        "df_lm = pd.concat([train, test], axis=0)[['text']]\n",
        "df_lm.head()"
      ],
      "execution_count": 79,
      "outputs": [
        {
          "output_type": "execute_result",
          "data": {
            "text/html": [
              "<div>\n",
              "<style scoped>\n",
              "    .dataframe tbody tr th:only-of-type {\n",
              "        vertical-align: middle;\n",
              "    }\n",
              "\n",
              "    .dataframe tbody tr th {\n",
              "        vertical-align: top;\n",
              "    }\n",
              "\n",
              "    .dataframe thead th {\n",
              "        text-align: right;\n",
              "    }\n",
              "</style>\n",
              "<table border=\"1\" class=\"dataframe\">\n",
              "  <thead>\n",
              "    <tr style=\"text-align: right;\">\n",
              "      <th></th>\n",
              "      <th>text</th>\n",
              "    </tr>\n",
              "  </thead>\n",
              "  <tbody>\n",
              "    <tr>\n",
              "      <th>0</th>\n",
              "      <td>Our Deeds are the Reason of this #earthquake May ALLAH Forgive us all</td>\n",
              "    </tr>\n",
              "    <tr>\n",
              "      <th>1</th>\n",
              "      <td>Forest fire near La Ronge Sask. Canada</td>\n",
              "    </tr>\n",
              "    <tr>\n",
              "      <th>2</th>\n",
              "      <td>All residents asked to 'shelter in place' are being notified by officers. No other evacuation or shelter in place orders are expected</td>\n",
              "    </tr>\n",
              "    <tr>\n",
              "      <th>3</th>\n",
              "      <td>13,000 people receive #wildfires evacuation orders in California</td>\n",
              "    </tr>\n",
              "    <tr>\n",
              "      <th>4</th>\n",
              "      <td>Just got sent this photo from Ruby #Alaska as smoke from #wildfires pours into a school</td>\n",
              "    </tr>\n",
              "  </tbody>\n",
              "</table>\n",
              "</div>"
            ],
            "text/plain": [
              "                                                                                                                                    text\n",
              "0                                                                  Our Deeds are the Reason of this #earthquake May ALLAH Forgive us all\n",
              "1                                                                                                 Forest fire near La Ronge Sask. Canada\n",
              "2  All residents asked to 'shelter in place' are being notified by officers. No other evacuation or shelter in place orders are expected\n",
              "3                                                                      13,000 people receive #wildfires evacuation orders in California \n",
              "4                                               Just got sent this photo from Ruby #Alaska as smoke from #wildfires pours into a school "
            ]
          },
          "metadata": {
            "tags": []
          },
          "execution_count": 79
        }
      ]
    },
    {
      "cell_type": "code",
      "metadata": {
        "id": "ncICmTXAgk8a",
        "colab_type": "code",
        "colab": {}
      },
      "source": [
        "dls_lm = DataBlock(\n",
        "    blocks=TextBlock.from_df('text', is_lm=True),\n",
        "    get_x=ColReader('text'), \n",
        "    splitter=RandomSplitter(0.1) \n",
        "    # using only 10% of entire comments data for validation inorder to learn more\n",
        ")"
      ],
      "execution_count": 80,
      "outputs": []
    },
    {
      "cell_type": "code",
      "metadata": {
        "id": "6YQwP8nXgoY4",
        "colab_type": "code",
        "colab": {
          "base_uri": "https://localhost:8080/",
          "height": 17
        },
        "outputId": "e134375e-384f-4603-a5dc-91f5f4a477e4"
      },
      "source": [
        "dls_lm = dls_lm.dataloaders(df_lm, bs=64, seq_len=72)"
      ],
      "execution_count": 81,
      "outputs": [
        {
          "output_type": "display_data",
          "data": {
            "text/html": [
              ""
            ],
            "text/plain": [
              "<IPython.core.display.HTML object>"
            ]
          },
          "metadata": {
            "tags": []
          }
        }
      ]
    },
    {
      "cell_type": "code",
      "metadata": {
        "id": "VNfkeWTdgqwZ",
        "colab_type": "code",
        "colab": {
          "base_uri": "https://localhost:8080/",
          "height": 1000
        },
        "outputId": "90f23ce4-637f-453e-d729-5a3653b51c8e"
      },
      "source": [
        "dls_lm.show_batch(max_n=100)"
      ],
      "execution_count": 82,
      "outputs": [
        {
          "output_type": "display_data",
          "data": {
            "text/html": [
              "<table border=\"1\" class=\"dataframe\">\n",
              "  <thead>\n",
              "    <tr style=\"text-align: right;\">\n",
              "      <th></th>\n",
              "      <th>text</th>\n",
              "      <th>text_</th>\n",
              "    </tr>\n",
              "  </thead>\n",
              "  <tbody>\n",
              "    <tr>\n",
              "      <th>0</th>\n",
              "      <td>xxbos xxmaj falling asleep to the sounds to thousands of xxmaj river xxmaj plate fans in the stadium and a thunderstorm . # xxunk xxbos xxmaj spot xxmaj flood xxmaj combo 53inch 300w xxmaj curved xxmaj cree xxup led xxmaj work xxmaj light xxmaj bar 4x4 xxmaj offroad xxmaj fog xxmaj lamp - xxmaj full reû _ http : / / t.co / xxunk http : / / t.co / xxunk xxbos</td>\n",
              "      <td>xxmaj falling asleep to the sounds to thousands of xxmaj river xxmaj plate fans in the stadium and a thunderstorm . # xxunk xxbos xxmaj spot xxmaj flood xxmaj combo 53inch 300w xxmaj curved xxmaj cree xxup led xxmaj work xxmaj light xxmaj bar 4x4 xxmaj offroad xxmaj fog xxmaj lamp - xxmaj full reû _ http : / / t.co / xxunk http : / / t.co / xxunk xxbos xxup</td>\n",
              "    </tr>\n",
              "    <tr>\n",
              "      <th>1</th>\n",
              "      <td>, stay safe everyone . xxbos 19 xxrep 3 0 homes destroyed in xxmaj gaza -- xxup zero xxunk . xxmaj join me in busting the xxunk ! xxmaj sign &amp; &amp; xxup rt # xxmaj gaza # xxunk https : / / t.co / xxunk m xxbos xxunk and he used xxunk on me also xxunk i was tea bagging your body for like 7 minutes while he was fighting someone</td>\n",
              "      <td>stay safe everyone . xxbos 19 xxrep 3 0 homes destroyed in xxmaj gaza -- xxup zero xxunk . xxmaj join me in busting the xxunk ! xxmaj sign &amp; &amp; xxup rt # xxmaj gaza # xxunk https : / / t.co / xxunk m xxbos xxunk and he used xxunk on me also xxunk i was tea bagging your body for like 7 minutes while he was fighting someone else</td>\n",
              "    </tr>\n",
              "    <tr>\n",
              "      <th>2</th>\n",
              "      <td>a boat xxrep 6 ? xxbos xxmaj watch : xxmaj violent xxmaj storm xxmaj causes xxmaj deadly xxmaj accident at xxmaj new xxmaj hampshire xxmaj circus http : / / t.co / xxunk # xxup xxunk http : / / t.co / xxunk xxbos xxmaj zouma ! xxmaj runaway train . xxmaj absolutely flattened the xxmaj xxunk player there … xxbos xxmaj motorcyclist bicyclist injured in xxmaj denver collision on xxmaj broadway</td>\n",
              "      <td>boat xxrep 6 ? xxbos xxmaj watch : xxmaj violent xxmaj storm xxmaj causes xxmaj deadly xxmaj accident at xxmaj new xxmaj hampshire xxmaj circus http : / / t.co / xxunk # xxup xxunk http : / / t.co / xxunk xxbos xxmaj zouma ! xxmaj runaway train . xxmaj absolutely flattened the xxmaj xxunk player there … xxbos xxmaj motorcyclist bicyclist injured in xxmaj denver collision on xxmaj broadway http</td>\n",
              "    </tr>\n",
              "    <tr>\n",
              "      <th>3</th>\n",
              "      <td>therefore it came to pass that in my xxunk year i did go forth at the head of an army of the … http : / / t.co / xxunk xxbos xxunk xxunk \\n xxmaj well then we see things xxunk . xxbos # dating # meet # sex xxmaj hot xxmaj teen xxmaj ass xxmaj exploded xxmaj by xxmaj fat xxmaj cock http : / / t.co / xxunk xxbos #</td>\n",
              "      <td>it came to pass that in my xxunk year i did go forth at the head of an army of the … http : / / t.co / xxunk xxbos xxunk xxunk \\n xxmaj well then we see things xxunk . xxbos # dating # meet # sex xxmaj hot xxmaj teen xxmaj ass xxmaj exploded xxmaj by xxmaj fat xxmaj cock http : / / t.co / xxunk xxbos # xxmaj</td>\n",
              "    </tr>\n",
              "    <tr>\n",
              "      <th>4</th>\n",
              "      <td>model 295ss-100 xxup siren xxup amplifier xxup police xxup emergency xxup vehicle - xxmaj full read by ebay http : / / t.co / xxunk http : / / t.co / xxunk xxbos xxmaj oh my xxmaj god . xxmaj sending my thoughts to xxunk head coach xxmaj dan xxmaj hughes who left the game on stretcher after xxmaj danielle xxmaj robinson collided into him . xxbos @raynbowaffair xxmaj editor xxmaj in</td>\n",
              "      <td>295ss-100 xxup siren xxup amplifier xxup police xxup emergency xxup vehicle - xxmaj full read by ebay http : / / t.co / xxunk http : / / t.co / xxunk xxbos xxmaj oh my xxmaj god . xxmaj sending my thoughts to xxunk head coach xxmaj dan xxmaj hughes who left the game on stretcher after xxmaj danielle xxmaj robinson collided into him . xxbos @raynbowaffair xxmaj editor xxmaj in xxmaj</td>\n",
              "    </tr>\n",
              "    <tr>\n",
              "      <th>5</th>\n",
              "      <td>xxunk xxmaj xxunk xxmaj and xxmaj near xxmaj death xxmaj experiences http : / / t.co / xxunk km xxunk xxunk xxunk xxbos xxmaj the xxmaj prophet ( peace be upon him ) said ' save yourself from xxmaj hellfire even if it is by giving half a date in charity . ' xxbos xxmaj that xxunk has n't already collapsed is a xxunk to xxunk xxunk xxunk to politics over reality</td>\n",
              "      <td>xxmaj xxunk xxmaj and xxmaj near xxmaj death xxmaj experiences http : / / t.co / xxunk km xxunk xxunk xxunk xxbos xxmaj the xxmaj prophet ( peace be upon him ) said ' save yourself from xxmaj hellfire even if it is by giving half a date in charity . ' xxbos xxmaj that xxunk has n't already collapsed is a xxunk to xxunk xxunk xxunk to politics over reality .</td>\n",
              "    </tr>\n",
              "    <tr>\n",
              "      <th>6</th>\n",
              "      <td>manager ' ? xxmaj if so let me know as i want to watch your billings fall off a cliff . \\n▁ # xxmaj xxunk xxbos @raynbowaffair xxmaj editor xxmaj in xxmaj chief @diamondkesawn xxmaj releases xxmaj issue # 7 http : / / t.co / xxunk of # ramag . # xxmaj fashion # xxmaj models and # xxmaj mayhem xxbos xxmaj fukushima xxmaj watch - xxmaj fukushima xxmaj watch xxmaj</td>\n",
              "      <td>' ? xxmaj if so let me know as i want to watch your billings fall off a cliff . \\n▁ # xxmaj xxunk xxbos @raynbowaffair xxmaj editor xxmaj in xxmaj chief @diamondkesawn xxmaj releases xxmaj issue # 7 http : / / t.co / xxunk of # ramag . # xxmaj fashion # xxmaj models and # xxmaj mayhem xxbos xxmaj fukushima xxmaj watch - xxmaj fukushima xxmaj watch xxmaj nuclear</td>\n",
              "    </tr>\n",
              "    <tr>\n",
              "      <th>7</th>\n",
              "      <td>xxunk up traffic at xxmaj xxunk xxmaj summit http : / / t.co / xxunk xxbos xxmaj another sad ocean casualty - gray whale population in the xxmaj pacific listed as xxunk # xxunk ( # drone video ) https : / / t.co / xxunk . xxbos xxmaj xxunk xxmaj lightning and xxmaj xxunk xxmaj springs xxmaj boom xxunk in xxunk inning in xxup xxunk playoffs xxbos xxmaj and you wonder</td>\n",
              "      <td>up traffic at xxmaj xxunk xxmaj summit http : / / t.co / xxunk xxbos xxmaj another sad ocean casualty - gray whale population in the xxmaj pacific listed as xxunk # xxunk ( # drone video ) https : / / t.co / xxunk . xxbos xxmaj xxunk xxmaj lightning and xxmaj xxunk xxmaj springs xxmaj boom xxunk in xxunk inning in xxup xxunk playoffs xxbos xxmaj and you wonder why</td>\n",
              "    </tr>\n",
              "    <tr>\n",
              "      <th>8</th>\n",
              "      <td>marks the 70th anniversary of the atomic bombing of xxmaj hiroshima with the most senior official from xxmaj washington ever xxunk _ xxbos xxmaj russian # xxunk # winter # military xxunk hat ( xxunk - xxunk ) with soviet badge xxup link : \\n http : / / t.co / xxunk http : / / t.co / xxunk xxbos xxmaj you wrecked me . xxmaj never felt so low in my</td>\n",
              "      <td>the 70th anniversary of the atomic bombing of xxmaj hiroshima with the most senior official from xxmaj washington ever xxunk _ xxbos xxmaj russian # xxunk # winter # military xxunk hat ( xxunk - xxunk ) with soviet badge xxup link : \\n http : / / t.co / xxunk http : / / t.co / xxunk xxbos xxmaj you wrecked me . xxmaj never felt so low in my life</td>\n",
              "    </tr>\n",
              "    <tr>\n",
              "      <th>9</th>\n",
              "      <td>/ xxunk xxbos xxmaj xxunk xxmaj prabhu calls xxmaj harda derailment a natural calamity ; officials feel warning signs xxunk : xxmaj prabhu may xxunk … http : / / t.co / xxunk xxbos xxmaj matt xxmaj xxunk xxmaj xxunk xxmaj into the the xxmaj xxunk xxunk xxmaj trailer and xxmaj who the xxmaj real xxmaj heroes of the xxmaj riot xxmaj were : xxup video http : / / t.co /</td>\n",
              "      <td>xxunk xxbos xxmaj xxunk xxmaj prabhu calls xxmaj harda derailment a natural calamity ; officials feel warning signs xxunk : xxmaj prabhu may xxunk … http : / / t.co / xxunk xxbos xxmaj matt xxmaj xxunk xxmaj xxunk xxmaj into the the xxmaj xxunk xxunk xxmaj trailer and xxmaj who the xxmaj real xxmaj heroes of the xxmaj riot xxmaj were : xxup video http : / / t.co / xxunk</td>\n",
              "    </tr>\n",
              "    <tr>\n",
              "      <th>10</th>\n",
              "      <td>in xxmaj black xxmaj horse xxunk ] . xxmaj score xxunk \\n http : / / t.co / xxunk \\n▁ # xxmaj xxunk http : / / t.co / xxunk xxbos xxmaj typhoon xxmaj soudelor kills 28 in xxmaj china and xxmaj taiwan xxbos xxmaj i 'm security so they want me to help out in case of emergency like the buildings on fire or a shooter 's in the building .</td>\n",
              "      <td>xxmaj black xxmaj horse xxunk ] . xxmaj score xxunk \\n http : / / t.co / xxunk \\n▁ # xxmaj xxunk http : / / t.co / xxunk xxbos xxmaj typhoon xxmaj soudelor kills 28 in xxmaj china and xxmaj taiwan xxbos xxmaj i 'm security so they want me to help out in case of emergency like the buildings on fire or a shooter 's in the building . xxmaj</td>\n",
              "    </tr>\n",
              "    <tr>\n",
              "      <th>11</th>\n",
              "      <td>) xxmaj dear xxmaj brothers and xxmaj sisters xxmaj the recent cyclone and the massive … http : / / t.co / xxunk t xxbos xxunk xxmaj xxunk xxunk xxunk xxunk i have when people send me words like ' xxunk ' must make it look like i have trapped wind . xxbos [ xxunk ] xxmaj nashville xxmaj theater xxmaj attack : xxmaj will xxmaj gun xxmaj grabbers xxmaj now xxmaj</td>\n",
              "      <td>xxmaj dear xxmaj brothers and xxmaj sisters xxmaj the recent cyclone and the massive … http : / / t.co / xxunk t xxbos xxunk xxmaj xxunk xxunk xxunk xxunk i have when people send me words like ' xxunk ' must make it look like i have trapped wind . xxbos [ xxunk ] xxmaj nashville xxmaj theater xxmaj attack : xxmaj will xxmaj gun xxmaj grabbers xxmaj now xxmaj demand</td>\n",
              "    </tr>\n",
              "    <tr>\n",
              "      <th>12</th>\n",
              "      <td>xxmaj island is it possible t … http : / / t.co / xxunk xxbos @danisnotonfire can you fix the xxunk xxunk i 've demolished xxbos # xxmaj bestnaijamade : 16yr old xxup pkk suicide bomber who detonated bomb in … http : / / t.co / ksawlyux02 xxwrep 3 bestnaijamade beû _ xxbos xxup xxunk issues xxup strong xxup thunderstorm xxup will xxup impact xxup portions xxup of xxup xxunk xxup</td>\n",
              "      <td>island is it possible t … http : / / t.co / xxunk xxbos @danisnotonfire can you fix the xxunk xxunk i 've demolished xxbos # xxmaj bestnaijamade : 16yr old xxup pkk suicide bomber who detonated bomb in … http : / / t.co / ksawlyux02 xxwrep 3 bestnaijamade beû _ xxbos xxup xxunk issues xxup strong xxup thunderstorm xxup will xxup impact xxup portions xxup of xxup xxunk xxup pickens</td>\n",
              "    </tr>\n",
              "    <tr>\n",
              "      <th>13</th>\n",
              "      <td>xxup mdt ] http : / / t.co / xxunk m xxbos # tech xxmaj data xxmaj xxunk : xxmaj the xxmaj growing xxmaj demand for xxmaj context and xxmaj structure : xxmaj in a world inundated with information … http : / / t.co / xxunk # news xxbos ' xxunk xxmaj night ' xxmaj xxunk xxmaj xxunk xxmaj role for ' siren ' - xxunk # horror http : /</td>\n",
              "      <td>mdt ] http : / / t.co / xxunk m xxbos # tech xxmaj data xxmaj xxunk : xxmaj the xxmaj growing xxmaj demand for xxmaj context and xxmaj structure : xxmaj in a world inundated with information … http : / / t.co / xxunk # news xxbos ' xxunk xxmaj night ' xxmaj xxunk xxmaj xxunk xxmaj role for ' siren ' - xxunk # horror http : / /</td>\n",
              "    </tr>\n",
              "    <tr>\n",
              "      <th>14</th>\n",
              "      <td>car into a parked car the other day … # xxunk # xxunk xxbos xxmaj god bless you and your mudslide cake xxmaj dorret xxrep 4 ? xxbos suddenly it 's off &amp; &amp; on xxunk &amp; &amp; thunder so loud it shakes the windows ? xxmaj not ever on the xxmaj bay xxmaj area . xxmaj miss me w / that lol http : / / t.co / xxunk xxbos xxmaj</td>\n",
              "      <td>into a parked car the other day … # xxunk # xxunk xxbos xxmaj god bless you and your mudslide cake xxmaj dorret xxrep 4 ? xxbos suddenly it 's off &amp; &amp; on xxunk &amp; &amp; thunder so loud it shakes the windows ? xxmaj not ever on the xxmaj bay xxmaj area . xxmaj miss me w / that lol http : / / t.co / xxunk xxbos xxmaj plains</td>\n",
              "    </tr>\n",
              "    <tr>\n",
              "      <th>15</th>\n",
              "      <td>those black xxunk ? xxbos xxmaj why does it say xxmaj xxunk xxunk in that xxunk someone xxunk him up like a piece of xxunk xxrep 24 ? # xxup xxunk xxbos xxmaj annihilated xxmaj xxunk . ? ? http : / / t.co / xxunk xxbos xxunk mines xxmaj rly tragedy in xxup mp : xxmaj some live to recount horror : ûïwhen i saw coaches of my train plunging into</td>\n",
              "      <td>black xxunk ? xxbos xxmaj why does it say xxmaj xxunk xxunk in that xxunk someone xxunk him up like a piece of xxunk xxrep 24 ? # xxup xxunk xxbos xxmaj annihilated xxmaj xxunk . ? ? http : / / t.co / xxunk xxbos xxunk mines xxmaj rly tragedy in xxup mp : xxmaj some live to recount horror : ûïwhen i saw coaches of my train plunging into water</td>\n",
              "    </tr>\n",
              "    <tr>\n",
              "      <th>16</th>\n",
              "      <td>http : / / t.co / xxunk xxbos xxmaj xxunk accident : xxmaj motorcyclist xxmaj dies in xxup xxunk xxmaj crash xxmaj with xxmaj car xxmaj that xxmaj crossed xxmaj xxunk : a motorcycle rider xxunk … http : / / t.co / xxunk xxbos xxmaj alabama home quarantined over possible xxmaj xxunk https : / / t.co / xxunk xxbos xxmaj pic of 16yr old xxup pkk suicide bomber who detonated</td>\n",
              "      <td>: / / t.co / xxunk xxbos xxmaj xxunk accident : xxmaj motorcyclist xxmaj dies in xxup xxunk xxmaj crash xxmaj with xxmaj car xxmaj that xxmaj crossed xxmaj xxunk : a motorcycle rider xxunk … http : / / t.co / xxunk xxbos xxmaj alabama home quarantined over possible xxmaj xxunk https : / / t.co / xxunk xxbos xxmaj pic of 16yr old xxup pkk suicide bomber who detonated bomb</td>\n",
              "    </tr>\n",
              "    <tr>\n",
              "      <th>17</th>\n",
              "      <td>work xxmaj light xxmaj bar 4x4 xxmaj offroad xxmaj fog xxmaj lamp - xxmaj full reû _ http : / / t.co / xxunk http : / / t.co / xxunk xxbos for an extra month i was literally traumatised that could n't been me . xxmaj but i do a recap in a pool every now &amp; &amp; again for safety xxunk . xxbos xxmaj it 's a deluge in xxunk</td>\n",
              "      <td>xxmaj light xxmaj bar 4x4 xxmaj offroad xxmaj fog xxmaj lamp - xxmaj full reû _ http : / / t.co / xxunk http : / / t.co / xxunk xxbos for an extra month i was literally traumatised that could n't been me . xxmaj but i do a recap in a pool every now &amp; &amp; again for safety xxunk . xxbos xxmaj it 's a deluge in xxunk -</td>\n",
              "    </tr>\n",
              "    <tr>\n",
              "      <th>18</th>\n",
              "      <td>/ / t.co / xxunk # xxup sm xxbos ' i 'm a xxmaj xxunk ' * children screaming buildings burning police sirens in the distance * xxbos xxmaj yay i can feel the wind xxunk up for a rainstorm in # xxmaj vancouver ! ! xxmaj bring it on # drought # xxunk # wildfires xxbos xxmaj rly tragedy in xxup mp : xxmaj some live to recount horror : ûïwhen</td>\n",
              "      <td>/ t.co / xxunk # xxup sm xxbos ' i 'm a xxmaj xxunk ' * children screaming buildings burning police sirens in the distance * xxbos xxmaj yay i can feel the wind xxunk up for a rainstorm in # xxmaj vancouver ! ! xxmaj bring it on # drought # xxunk # wildfires xxbos xxmaj rly tragedy in xxup mp : xxmaj some live to recount horror : ûïwhen i</td>\n",
              "    </tr>\n",
              "    <tr>\n",
              "      <th>19</th>\n",
              "      <td>xxmaj fukushima this is a # global problem xxbos xxmaj experts in xxmaj france begin examining airplane debris found on xxmaj reunion xxmaj island : xxmaj french air accident experts on xxmaj wednesday began examining t … xxbos xxmaj japan marks 70th anniversary of xxmaj hiroshima atomic bombing # xxmaj xxunk http : / / t.co / xxunk xxbos xxup nasa xxup xxunk image : xxmaj dust storm over xxmaj xxunk and</td>\n",
              "      <td>fukushima this is a # global problem xxbos xxmaj experts in xxmaj france begin examining airplane debris found on xxmaj reunion xxmaj island : xxmaj french air accident experts on xxmaj wednesday began examining t … xxbos xxmaj japan marks 70th anniversary of xxmaj hiroshima atomic bombing # xxmaj xxunk http : / / t.co / xxunk xxbos xxup nasa xxup xxunk image : xxmaj dust storm over xxmaj xxunk and the</td>\n",
              "    </tr>\n",
              "    <tr>\n",
              "      <th>20</th>\n",
              "      <td>it drowned \\n▁ wtf xxrep 8 ? xxbos xxunk _ xxunk @foxnews so do you think a bunch of xxunk people firing back is n't going to cause more casualties xxbos xxmaj new and now : xxmaj different ( xxunk xxunk ) : xxmaj xxunk / 2 xxunk my awesome xxunk it 's … http : / / t.co / xxunk # xxunk # xxunk xxbos xxmaj new drought monitor showing drought</td>\n",
              "      <td>drowned \\n▁ wtf xxrep 8 ? xxbos xxunk _ xxunk @foxnews so do you think a bunch of xxunk people firing back is n't going to cause more casualties xxbos xxmaj new and now : xxmaj different ( xxunk xxunk ) : xxmaj xxunk / 2 xxunk my awesome xxunk it 's … http : / / t.co / xxunk # xxunk # xxunk xxbos xxmaj new drought monitor showing drought xxunk</td>\n",
              "    </tr>\n",
              "    <tr>\n",
              "      <th>21</th>\n",
              "      <td>t.co / xxunk xxbos xxmaj the hatchet - xxunk gunman had xxup pepper xxup spray xxup and a xxup fake xxup bomb ? ! ? ! ? xxbos # xxup kca # votejkt48id xxup xxunk : xxmaj burning xxunk the table and says ' xxunk this lets hit some buildings ! ' xxmaj xxunk a xxup dr û _ http : / / t.co / xxunk xxbos xxmaj families to sue over</td>\n",
              "      <td>/ xxunk xxbos xxmaj the hatchet - xxunk gunman had xxup pepper xxup spray xxup and a xxup fake xxup bomb ? ! ? ! ? xxbos # xxup kca # votejkt48id xxup xxunk : xxmaj burning xxunk the table and says ' xxunk this lets hit some buildings ! ' xxmaj xxunk a xxup dr û _ http : / / t.co / xxunk xxbos xxmaj families to sue over xxmaj</td>\n",
              "    </tr>\n",
              "    <tr>\n",
              "      <th>22</th>\n",
              "      <td>way down … xxbos xxunk : xxunk and i have a crush on xxmaj rob xxmaj thomas right now … ? ? # xxunk # xxunk xxunk _ û _ http : / / t.co / xxunk ) xxbos xxmaj hiroshima marks 70 years since bomb http : / / t.co / xxunk xxbos xxmaj bridge collapse not natural calamity but man - made : xxup xxunk xxunk xxmaj congress - xxunk</td>\n",
              "      <td>down … xxbos xxunk : xxunk and i have a crush on xxmaj rob xxmaj thomas right now … ? ? # xxunk # xxunk xxunk _ û _ http : / / t.co / xxunk ) xxbos xxmaj hiroshima marks 70 years since bomb http : / / t.co / xxunk xxbos xxmaj bridge collapse not natural calamity but man - made : xxup xxunk xxunk xxmaj congress - xxunk http</td>\n",
              "    </tr>\n",
              "    <tr>\n",
              "      <th>23</th>\n",
              "      <td>xxmaj italy : xxmaj three dead after landslide in the xxmaj italian xxmaj alps : http : / / t.co / xxunk via @youtube xxbos xxmaj hellfire is surrounded by desires so be careful and donûªt let your desires control you ! # xxmaj afterlife # islam xxbos xxunk - le - clay house owner told to demolish extension - xxup bbc xxmaj news http : / / t.co / xxunk xxbos</td>\n",
              "      <td>italy : xxmaj three dead after landslide in the xxmaj italian xxmaj alps : http : / / t.co / xxunk via @youtube xxbos xxmaj hellfire is surrounded by desires so be careful and donûªt let your desires control you ! # xxmaj afterlife # islam xxbos xxunk - le - clay house owner told to demolish extension - xxup bbc xxmaj news http : / / t.co / xxunk xxbos xxmaj</td>\n",
              "    </tr>\n",
              "    <tr>\n",
              "      <th>24</th>\n",
              "      <td>bridge : xxmaj johannesburg xxmaj aug 06 ( xxunk ) : xxmaj legendary xxmaj australian … http : / / t.co / xxunk xxbos xxmaj for maximum damage ! xxmaj xxunk [ big xxup band xxup mode ] for old - xxunk obliteration ! xxbos xxmaj governor xxunk parole for xxmaj california school bus hijacker http : / / t.co / xxunk http : / / t.co / xxunk xxbos xxup us</td>\n",
              "      <td>: xxmaj johannesburg xxmaj aug 06 ( xxunk ) : xxmaj legendary xxmaj australian … http : / / t.co / xxunk xxbos xxmaj for maximum damage ! xxmaj xxunk [ big xxup band xxup mode ] for old - xxunk obliteration ! xxbos xxmaj governor xxunk parole for xxmaj california school bus hijacker http : / / t.co / xxunk http : / / t.co / xxunk xxbos xxup us xxmaj</td>\n",
              "    </tr>\n",
              "    <tr>\n",
              "      <th>25</th>\n",
              "      <td>in xxunk play gave you a special card back .. xxmaj would be cool for the long xxunk _ http : / / t.co / xxunk xxbos xxmaj last xxmaj chance xxmaj animal xxmaj rescue has 3 new posts . http : / / t.co / xxunk # animalrescue | https : / / t.co / xxunk xxbos xxmaj setting things on fire is always an option xxbos xxmaj our xxunk is</td>\n",
              "      <td>xxunk play gave you a special card back .. xxmaj would be cool for the long xxunk _ http : / / t.co / xxunk xxbos xxmaj last xxmaj chance xxmaj animal xxmaj rescue has 3 new posts . http : / / t.co / xxunk # animalrescue | https : / / t.co / xxunk xxbos xxmaj setting things on fire is always an option xxbos xxmaj our xxunk is having</td>\n",
              "    </tr>\n",
              "    <tr>\n",
              "      <th>26</th>\n",
              "      <td>xxunk cue the flood of people ' ironically ' calling you that xxbos xxup this xxup sounds xxup like a xxup song xxup you xxup would xxup hear xxup in a xxup movie xxup where xxup they xxup are xxup walking xxup away xxup from xxup burning xxup buildings xxup and xxup cars xxup and xxup shit xxbos xxunk godslove &amp; &amp; # thanku my sister for xxup rt of xxup new</td>\n",
              "      <td>cue the flood of people ' ironically ' calling you that xxbos xxup this xxup sounds xxup like a xxup song xxup you xxup would xxup hear xxup in a xxup movie xxup where xxup they xxup are xxup walking xxup away xxup from xxup burning xxup buildings xxup and xxup cars xxup and xxup shit xxbos xxunk godslove &amp; &amp; # thanku my sister for xxup rt of xxup new xxup</td>\n",
              "    </tr>\n",
              "    <tr>\n",
              "      <th>27</th>\n",
              "      <td>xxmaj xxunk xxup xxunk xxmaj xxunk xxup xxunk xxmaj xxunk xxunk &gt; xxunk xxup xxunk xxmaj xxunk xxmaj xxunk n / b http : / / t.co / xxunk xxbos xxmaj this xxmaj xxunk xxunk - blake xxmaj xxunk commercial screams their making a xxmaj space xxmaj jam 2 xxbos xxmaj landslide in xxmaj italian xxmaj alps kills three - xxup rome ( reuters ) - xxmaj three people were killed when</td>\n",
              "      <td>xxunk xxup xxunk xxmaj xxunk xxup xxunk xxmaj xxunk xxunk &gt; xxunk xxup xxunk xxmaj xxunk xxmaj xxunk n / b http : / / t.co / xxunk xxbos xxmaj this xxmaj xxunk xxunk - blake xxmaj xxunk commercial screams their making a xxmaj space xxmaj jam 2 xxbos xxmaj landslide in xxmaj italian xxmaj alps kills three - xxup rome ( reuters ) - xxmaj three people were killed when a</td>\n",
              "    </tr>\n",
              "    <tr>\n",
              "      <th>28</th>\n",
              "      <td>holy crap xxunk xxrep 3 9 my phone just exploded . haha xxbos xxunk yeah true because if he would n't have got exposed then he probably would n't have went to xxunk and blew up there xxbos xxmaj i 'm about to cook your xxmaj xxunk the xxmaj bear saving forest fires face ass https : / / t.co / xxunk xxbos xxmaj plane from xxmaj new xxmaj york to xxmaj</td>\n",
              "      <td>crap xxunk xxrep 3 9 my phone just exploded . haha xxbos xxunk yeah true because if he would n't have got exposed then he probably would n't have went to xxunk and blew up there xxbos xxmaj i 'm about to cook your xxmaj xxunk the xxmaj bear saving forest fires face ass https : / / t.co / xxunk xxbos xxmaj plane from xxmaj new xxmaj york to xxmaj kuwait</td>\n",
              "    </tr>\n",
              "    <tr>\n",
              "      <th>29</th>\n",
              "      <td>xxbos xxmaj my mom is watching a show about bridges breaking / falling and the people on them drowning in their cars aka one of my biggest fears xxrep 4 ? xxbos xxmaj sinkhole on west side damaging cars via xxunk http : / / t.co / xxunk xxbos @youngheroesid xxmaj lava xxmaj blast &amp; &amp; xxmaj power xxmaj red xxunk xxunk # pantherattack xxbos xxmaj xxunk &amp; &amp; xxup blazing xxmaj</td>\n",
              "      <td>xxmaj my mom is watching a show about bridges breaking / falling and the people on them drowning in their cars aka one of my biggest fears xxrep 4 ? xxbos xxmaj sinkhole on west side damaging cars via xxunk http : / / t.co / xxunk xxbos @youngheroesid xxmaj lava xxmaj blast &amp; &amp; xxmaj power xxmaj red xxunk xxunk # pantherattack xxbos xxmaj xxunk &amp; &amp; xxup blazing xxmaj fireman</td>\n",
              "    </tr>\n",
              "    <tr>\n",
              "      <th>30</th>\n",
              "      <td>'s xxunk off the xxunk . xxbos i have never screamed so loud https : / / t.co / xxunk xxbos xxmaj seek help xxunk # metrofmtalk xxbos xxunk xxmaj i 'm devastated xxbos @potus xxmaj would you please explain what you are going to do about the xxunk &amp; &amp; bush fires xxunk all that xxup co2 into the air ? xxbos xxmaj killing xxmaj black xxmaj babies at xxmaj planned</td>\n",
              "      <td>xxunk off the xxunk . xxbos i have never screamed so loud https : / / t.co / xxunk xxbos xxmaj seek help xxunk # metrofmtalk xxbos xxunk xxmaj i 'm devastated xxbos @potus xxmaj would you please explain what you are going to do about the xxunk &amp; &amp; bush fires xxunk all that xxup co2 into the air ? xxbos xxmaj killing xxmaj black xxmaj babies at xxmaj planned xxmaj</td>\n",
              "    </tr>\n",
              "    <tr>\n",
              "      <th>31</th>\n",
              "      <td>would 've thought ! ? ? xxunk xxbos xxunk i respected you and liked you for your talent . i guess i xxunk do but as a human being you 've sunk low xxunk ! xxbos xxmaj the xxmaj best drought - xxunk xxmaj xxunk http : / / t.co / xxunk http : / / t.co / xxunk xxbos xxmaj metro xxmaj nashville xxmaj police - simply the best . xxmaj</td>\n",
              "      <td>'ve thought ! ? ? xxunk xxbos xxunk i respected you and liked you for your talent . i guess i xxunk do but as a human being you 've sunk low xxunk ! xxbos xxmaj the xxmaj best drought - xxunk xxmaj xxunk http : / / t.co / xxunk http : / / t.co / xxunk xxbos xxmaj metro xxmaj nashville xxmaj police - simply the best . xxmaj thank</td>\n",
              "    </tr>\n",
              "    <tr>\n",
              "      <th>32</th>\n",
              "      <td>my train plunging into water i called … http : / / t.co / xxunk xxbos # hot xxmaj funtenna : hijacking computers to send data as sound waves [ black xxmaj hat 2015 ] http : / / t.co / xxunk # prebreak # best xxbos xxmaj bombing # xxmaj iran would result in a never - ending game of # nuclear xxunk - a - xxunk . xxmaj here 's</td>\n",
              "      <td>train plunging into water i called … http : / / t.co / xxunk xxbos # hot xxmaj funtenna : hijacking computers to send data as sound waves [ black xxmaj hat 2015 ] http : / / t.co / xxunk # prebreak # best xxbos xxmaj bombing # xxmaj iran would result in a never - ending game of # nuclear xxunk - a - xxunk . xxmaj here 's why</td>\n",
              "    </tr>\n",
              "    <tr>\n",
              "      <th>33</th>\n",
              "      <td>/ / t.co / xxunk xxbos xxmaj caution : breathing may be hazardous to your health . xxbos # xxunk what do i do ? xxmaj my friend has been xxunk by xxmaj police in xxmaj wayne xxmaj county xxmaj michigan into xxunk sending poverty xxunk . xxmaj how do i help him ? xxbos xxmaj for those displaced by disasters xxunk and legal status remain out of reach https : /</td>\n",
              "      <td>/ t.co / xxunk xxbos xxmaj caution : breathing may be hazardous to your health . xxbos # xxunk what do i do ? xxmaj my friend has been xxunk by xxmaj police in xxmaj wayne xxmaj county xxmaj michigan into xxunk sending poverty xxunk . xxmaj how do i help him ? xxbos xxmaj for those displaced by disasters xxunk and legal status remain out of reach https : / /</td>\n",
              "    </tr>\n",
              "    <tr>\n",
              "      <th>34</th>\n",
              "      <td>suspect linked to 30 fires caught in xxmaj northern xxmaj california - xxmaj los xxmaj angeles xxmaj times http : / / t.co / xxunk xxbos xxmaj attention all xxup xxunk football players there will be xxunk and body bags by the locker xxunk grab one xxunk because were gon na die xxbos xxmaj sinkhole xxmaj disrupts xxmaj downtown xxmaj trolley xxmaj service # sandiego - http : / / t.co /</td>\n",
              "      <td>linked to 30 fires caught in xxmaj northern xxmaj california - xxmaj los xxmaj angeles xxmaj times http : / / t.co / xxunk xxbos xxmaj attention all xxup xxunk football players there will be xxunk and body bags by the locker xxunk grab one xxunk because were gon na die xxbos xxmaj sinkhole xxmaj disrupts xxmaj downtown xxmaj trolley xxmaj service # sandiego - http : / / t.co / xxunk</td>\n",
              "    </tr>\n",
              "    <tr>\n",
              "      <th>35</th>\n",
              "      <td>decades hits parts of xxmaj myanmar http : / / t.co / xxunk xxbos # xxmaj illinois : xxmaj emergency units simulate a chemical explosion at xxup nu https : / / t.co / xxunk via @sharethis # xxunk xxbos i feel like xxmaj i 'm drowning inside my own body ! ! xxbos @emmerdale # summerfate that was so intense ! ! xxmaj ca n't believe xxmaj val 's dead !</td>\n",
              "      <td>hits parts of xxmaj myanmar http : / / t.co / xxunk xxbos # xxmaj illinois : xxmaj emergency units simulate a chemical explosion at xxup nu https : / / t.co / xxunk via @sharethis # xxunk xxbos i feel like xxmaj i 'm drowning inside my own body ! ! xxbos @emmerdale # summerfate that was so intense ! ! xxmaj ca n't believe xxmaj val 's dead ! !</td>\n",
              "    </tr>\n",
              "    <tr>\n",
              "      <th>36</th>\n",
              "      <td>dry . | http : / / t.co / xxunk xxbos xxmaj if you build an army of 100 lions and their leader is a dog in any fight the lions will die like a dog . xxbos xxmaj two giant cranes holding a bridge collapse into nearby homes http : / / t.co / xxunk xxbos wild night in the village of xxunk every fire truck is out that the town</td>\n",
              "      <td>. | http : / / t.co / xxunk xxbos xxmaj if you build an army of 100 lions and their leader is a dog in any fight the lions will die like a dog . xxbos xxmaj two giant cranes holding a bridge collapse into nearby homes http : / / t.co / xxunk xxbos wild night in the village of xxunk every fire truck is out that the town has</td>\n",
              "    </tr>\n",
              "    <tr>\n",
              "      <th>37</th>\n",
              "      <td>update http : / / t.co / xxunk xxunk xxbos xxunk of course not . for efforts to address short - xxunk beyond not including a xxunk ' would derail obvious xxunk efforts . xxbos recent project ( dust xxmaj storm ) . :) http : / / t.co / xxunk xxbos i think parents r shit these days = only xxunk i do n't have kids = but to let ur</td>\n",
              "      <td>http : / / t.co / xxunk xxunk xxbos xxunk of course not . for efforts to address short - xxunk beyond not including a xxunk ' would derail obvious xxunk efforts . xxbos recent project ( dust xxmaj storm ) . :) http : / / t.co / xxunk xxbos i think parents r shit these days = only xxunk i do n't have kids = but to let ur child</td>\n",
              "    </tr>\n",
              "    <tr>\n",
              "      <th>38</th>\n",
              "      <td>letsfootball # atk xxup wired : xxmaj all these fires are burning through û _ http : / / t.co / xxunk xxbos ' xxunk 2 biggest xxunk in xxup cad : xxunk in yr xxunk election xxunk w / landslide win for opposition ' http : / / t.co / xxunk xxbos ? xxunk xxmaj day xxmaj since xxunk -- xxmaj nigeria : xxmaj suicide xxmaj bomb xxmaj attacks xxmaj killed</td>\n",
              "      <td># atk xxup wired : xxmaj all these fires are burning through û _ http : / / t.co / xxunk xxbos ' xxunk 2 biggest xxunk in xxup cad : xxunk in yr xxunk election xxunk w / landslide win for opposition ' http : / / t.co / xxunk xxbos ? xxunk xxmaj day xxmaj since xxunk -- xxmaj nigeria : xxmaj suicide xxmaj bomb xxmaj attacks xxmaj killed 64</td>\n",
              "    </tr>\n",
              "    <tr>\n",
              "      <th>39</th>\n",
              "      <td>denver xxmaj firefighter xxmaj working xxmaj to xxmaj curb xxmaj first xxmaj xxunk xxmaj suicide http : / / t.co / xxunk xxbos xxmaj pretty much every time the audio dies on an audio stream for a baseball game i xxunk catastrophic nuclear attack . xxbos xxmaj the xxmaj next xxmaj financial xxmaj crash . ' the xxmaj writing is on the xxmaj wall ' . xxmaj do n't xxmaj say '</td>\n",
              "      <td>xxmaj firefighter xxmaj working xxmaj to xxmaj curb xxmaj first xxmaj xxunk xxmaj suicide http : / / t.co / xxunk xxbos xxmaj pretty much every time the audio dies on an audio stream for a baseball game i xxunk catastrophic nuclear attack . xxbos xxmaj the xxmaj next xxmaj financial xxmaj crash . ' the xxmaj writing is on the xxmaj wall ' . xxmaj do n't xxmaj say ' you</td>\n",
              "    </tr>\n",
              "    <tr>\n",
              "      <th>40</th>\n",
              "      <td>with me baby i just want the simple things xxbos xxmaj i m so anxious though because so many ppl will me watching me meet them and that makes me xxunk xxup but i xxup ca nt xxup let xxup that xxup ruin xxup the xxup moment xxbos xxmaj is a wing part enough to solve the xxup mh370 mystery ? : http : / / t.co / xxunk xxbos xxmaj love</td>\n",
              "      <td>me baby i just want the simple things xxbos xxmaj i m so anxious though because so many ppl will me watching me meet them and that makes me xxunk xxup but i xxup ca nt xxup let xxup that xxup ruin xxup the xxup moment xxbos xxmaj is a wing part enough to solve the xxup mh370 mystery ? : http : / / t.co / xxunk xxbos xxmaj love love</td>\n",
              "    </tr>\n",
              "    <tr>\n",
              "      <th>41</th>\n",
              "      <td>' annihilated by last nights weather ' … xxmaj really xxmaj xxunk thought you would have forecast that … xxbos ' if you looking for my niggas you can follow the sirens . ' xxrep 4 ? xxbos xxmaj rightways : xxmaj building structural integrity &amp; &amp; failure : inspections damages defects testing repair http : / / t.co / xxunk via xxunk xxbos xxmaj let 's appreciate that the group of</td>\n",
              "      <td>annihilated by last nights weather ' … xxmaj really xxmaj xxunk thought you would have forecast that … xxbos ' if you looking for my niggas you can follow the sirens . ' xxrep 4 ? xxbos xxmaj rightways : xxmaj building structural integrity &amp; &amp; failure : inspections damages defects testing repair http : / / t.co / xxunk via xxunk xxbos xxmaj let 's appreciate that the group of people</td>\n",
              "    </tr>\n",
              "    <tr>\n",
              "      <th>42</th>\n",
              "      <td>t.co / xxunk http : / / t.co / xxunk xxbos drinking xxunk i m afraid i might spill some and then my headphones electrocute me . xxbos xxunk xxmaj do n't like the xxmaj xxunk xxmaj xxunk xxmaj memorial xxmaj nuclear xxmaj reactor for the xxmaj annihilation of xxmaj israel ? xxmaj racist ! xxbos xxunk ' i … xxmaj wow . xxmaj alright . ' xxmaj xxunk shook her head</td>\n",
              "      <td>/ xxunk http : / / t.co / xxunk xxbos drinking xxunk i m afraid i might spill some and then my headphones electrocute me . xxbos xxunk xxmaj do n't like the xxmaj xxunk xxmaj xxunk xxmaj memorial xxmaj nuclear xxmaj reactor for the xxmaj annihilation of xxmaj israel ? xxmaj racist ! xxbos xxunk ' i … xxmaj wow . xxmaj alright . ' xxmaj xxunk shook her head and</td>\n",
              "    </tr>\n",
              "    <tr>\n",
              "      <th>43</th>\n",
              "      <td>m 1.9 - 5 km s of xxmaj volcano xxmaj hawaii : xxmaj time2015 - 08 - 06 01:04:01 xxup utc2015 - 08 - 05 15:04:01 -10:00 a … http : / / t.co / xxunk # earthquake xxbos xxmaj hereûªs what caused a xxmaj metro train to derail in downtown xxup d.c . http : / / t.co / xxunk xxbos xxmaj xxunk kids stopped to watch me play xxmaj disney</td>\n",
              "      <td>1.9 - 5 km s of xxmaj volcano xxmaj hawaii : xxmaj time2015 - 08 - 06 01:04:01 xxup utc2015 - 08 - 05 15:04:01 -10:00 a … http : / / t.co / xxunk # earthquake xxbos xxmaj hereûªs what caused a xxmaj metro train to derail in downtown xxup d.c . http : / / t.co / xxunk xxbos xxmaj xxunk kids stopped to watch me play xxmaj disney 's</td>\n",
              "    </tr>\n",
              "    <tr>\n",
              "      <th>44</th>\n",
              "      <td>xxunk xxmaj xxunk http : / / t.co / xxunk xxbos xxmaj watch xxmaj this xxmaj airport xxmaj get xxmaj swallowed xxmaj up xxmaj by a xxmaj sandstorm xxmaj in xxmaj under a xxmaj minute http : / / t.co / xxunk xxbos xxmaj well me and dad survived my driving xxrep 8 ? xxbos xxmaj my new sounds : xxmaj war xxmaj zone https : / / t.co / xxunk on</td>\n",
              "      <td>xxmaj xxunk http : / / t.co / xxunk xxbos xxmaj watch xxmaj this xxmaj airport xxmaj get xxmaj swallowed xxmaj up xxmaj by a xxmaj sandstorm xxmaj in xxmaj under a xxmaj minute http : / / t.co / xxunk xxbos xxmaj well me and dad survived my driving xxrep 8 ? xxbos xxmaj my new sounds : xxmaj war xxmaj zone https : / / t.co / xxunk on #</td>\n",
              "    </tr>\n",
              "    <tr>\n",
              "      <th>45</th>\n",
              "      <td>xxmaj village xxmaj youth xxmaj saved xxmaj many xxmaj lives http : / / t.co / xxunk # til_now # xxup xxunk xxbos xxmaj he is xxunk why this xxunk would one day end in d obliteration of what remains as the state of xxmaj pakistan . https : / / t.co / xxunk xxbos xxmaj obama xxmaj declares xxmaj disaster for typhoon - devastated xxmaj saipan : xxmaj obama signs disaster</td>\n",
              "      <td>village xxmaj youth xxmaj saved xxmaj many xxmaj lives http : / / t.co / xxunk # til_now # xxup xxunk xxbos xxmaj he is xxunk why this xxunk would one day end in d obliteration of what remains as the state of xxmaj pakistan . https : / / t.co / xxunk xxbos xxmaj obama xxmaj declares xxmaj disaster for typhoon - devastated xxmaj saipan : xxmaj obama signs disaster declaration</td>\n",
              "    </tr>\n",
              "    <tr>\n",
              "      <th>46</th>\n",
              "      <td>xxunk / xxup mass xxup murderer xxup xxunk xxup not 2 xxup xxunk xxup in xxup final xxup xxunk 3 so he wo n't therefore b subject 2 cross - xxunk or xxunk questions xxbos xxmaj no reported cases of people drowning in sweat … fyi xxbos xxmaj do babies actually get electrocuted from wall xxunk ? xxmaj i 'm wondering how i and those before me survived childhood . xxbos xxunk</td>\n",
              "      <td>/ xxup mass xxup murderer xxup xxunk xxup not 2 xxup xxunk xxup in xxup final xxup xxunk 3 so he wo n't therefore b subject 2 cross - xxunk or xxunk questions xxbos xxmaj no reported cases of people drowning in sweat … fyi xxbos xxmaj do babies actually get electrocuted from wall xxunk ? xxmaj i 'm wondering how i and those before me survived childhood . xxbos xxunk :</td>\n",
              "    </tr>\n",
              "    <tr>\n",
              "      <th>47</th>\n",
              "      <td>shoulder xxmaj bags xxmaj white http : / / t.co / xxunk http : / / t.co / xxunk xxup rt xxunk _ xxbos xxmaj walmart is taking steps to keep children safe in hot vehicles . xxmaj take a look at the xxunk car seat here ! http : / / t.co / xxunk xxbos xxmaj wow ! xxmaj he crushed that ! # xxup xxunk # bluejays xxbos # xxmaj</td>\n",
              "      <td>xxmaj bags xxmaj white http : / / t.co / xxunk http : / / t.co / xxunk xxup rt xxunk _ xxbos xxmaj walmart is taking steps to keep children safe in hot vehicles . xxmaj take a look at the xxunk car seat here ! http : / / t.co / xxunk xxbos xxmaj wow ! xxmaj he crushed that ! # xxup xxunk # bluejays xxbos # xxmaj sismo</td>\n",
              "    </tr>\n",
              "    <tr>\n",
              "      <th>48</th>\n",
              "      <td>t.co / xxunk xxbos a blizzard would be clutch xxunk ? ? xxbos xxmaj wow what beauty lies within every storm . xxmaj taken today after a rainstorm at xxup xxunk xxmaj xxunk http : / / t.co / xxunk xxbos xxmaj severe xxmaj thunderstorm xxmaj warning for xxmaj oklahoma xxmaj county until 10:30pm . xxmaj radar here : http : / / t.co / xxunk oz # okwx xxbos xxmaj your</td>\n",
              "      <td>/ xxunk xxbos a blizzard would be clutch xxunk ? ? xxbos xxmaj wow what beauty lies within every storm . xxmaj taken today after a rainstorm at xxup xxunk xxmaj xxunk http : / / t.co / xxunk xxbos xxmaj severe xxmaj thunderstorm xxmaj warning for xxmaj oklahoma xxmaj county until 10:30pm . xxmaj radar here : http : / / t.co / xxunk oz # okwx xxbos xxmaj your xxmaj</td>\n",
              "    </tr>\n",
              "    <tr>\n",
              "      <th>49</th>\n",
              "      <td>list ! xxmaj el xxmaj diablo xxmaj xxunk xxmaj xxunk : xxunk yellow xxunk xxunk xxunk hellfire xxunk … . http : / / t.co / xxunk m xxbos 70 xxmaj years xxmaj after xxmaj atomic xxmaj bombs xxmaj japan xxmaj still xxmaj struggles xxmaj with xxmaj war xxmaj past : xxmaj the anniversary of the devastation wrought b … http : / / t.co / xxunk xxbos xxmaj how the xxmaj</td>\n",
              "      <td>! xxmaj el xxmaj diablo xxmaj xxunk xxmaj xxunk : xxunk yellow xxunk xxunk xxunk hellfire xxunk … . http : / / t.co / xxunk m xxbos 70 xxmaj years xxmaj after xxmaj atomic xxmaj bombs xxmaj japan xxmaj still xxmaj struggles xxmaj with xxmaj war xxmaj past : xxmaj the anniversary of the devastation wrought b … http : / / t.co / xxunk xxbos xxmaj how the xxmaj west</td>\n",
              "    </tr>\n",
              "    <tr>\n",
              "      <th>50</th>\n",
              "      <td>xxmaj xxunk on xxmaj the xxmaj view http : / / t.co / xxunk xxbos xxmaj xxunk to the study xxunk by xxup xxunk xxunk 50 % population in # xxmaj xxunk suffer psychiatric xxunk http : / / t.co / xxunk # xxunk xxbos xxmaj citizens xxmaj education xxmaj project has acted for years as a xxunk on the xxmaj xxunk xxmaj xxunk xxmaj grounds . http : / / t.co</td>\n",
              "      <td>xxunk on xxmaj the xxmaj view http : / / t.co / xxunk xxbos xxmaj xxunk to the study xxunk by xxup xxunk xxunk 50 % population in # xxmaj xxunk suffer psychiatric xxunk http : / / t.co / xxunk # xxunk xxbos xxmaj citizens xxmaj education xxmaj project has acted for years as a xxunk on the xxmaj xxunk xxmaj xxunk xxmaj grounds . http : / / t.co /</td>\n",
              "    </tr>\n",
              "    <tr>\n",
              "      <th>51</th>\n",
              "      <td>xxunk / xxunk / religion - fueled shooting that will xxunk rioting . xxbos xxmaj your xxunk will make a difference in the lives of # survivors of # xxunk . xxmaj please donate today . \\n▁ http : / / t.co / xxunk xxbos xxmaj update : still have n't eaten since xxunk am still have to clean the dry lot and fill water in quarantine . xxmaj may pass out</td>\n",
              "      <td>/ xxunk / religion - fueled shooting that will xxunk rioting . xxbos xxmaj your xxunk will make a difference in the lives of # survivors of # xxunk . xxmaj please donate today . \\n▁ http : / / t.co / xxunk xxbos xxmaj update : still have n't eaten since xxunk am still have to clean the dry lot and fill water in quarantine . xxmaj may pass out xxbos</td>\n",
              "    </tr>\n",
              "    <tr>\n",
              "      <th>52</th>\n",
              "      <td>called ' xxunk ' # xxunk on his xxunk xxunk . http : / / t.co / xxunk xxbos 10 xxmaj ways xxmaj to xxmaj survive and xxmaj escape xxmaj xxunk xxmaj law | xxmaj world http : / / t.co / xxunk http : / / t.co / xxunk xxbos xxmaj do you have an emergency drinking water plan ? xxmaj download guide in xxmaj english xxmaj spanish xxmaj french xxmaj</td>\n",
              "      <td>' xxunk ' # xxunk on his xxunk xxunk . http : / / t.co / xxunk xxbos 10 xxmaj ways xxmaj to xxmaj survive and xxmaj escape xxmaj xxunk xxmaj law | xxmaj world http : / / t.co / xxunk http : / / t.co / xxunk xxbos xxmaj do you have an emergency drinking water plan ? xxmaj download guide in xxmaj english xxmaj spanish xxmaj french xxmaj xxunk</td>\n",
              "    </tr>\n",
              "    <tr>\n",
              "      <th>53</th>\n",
              "      <td>xxup weather xxup bulletin xxmaj no . 6 \\n xxup for : xxup typhoon xxunk ( soudelor ) \\n xxup tropical xxup cyclone : xxup warning \\n\\n xxup issued xxup at 11:00 xxup pm … https : / / t.co / xxunk xxbos xxunk but also a complete failure of xxunk when it comes to xxunk / structural analysis regardless of politics xxbos 3 out of the 4 people xxmaj i 'm</td>\n",
              "      <td>weather xxup bulletin xxmaj no . 6 \\n xxup for : xxup typhoon xxunk ( soudelor ) \\n xxup tropical xxup cyclone : xxup warning \\n\\n xxup issued xxup at 11:00 xxup pm … https : / / t.co / xxunk xxbos xxunk but also a complete failure of xxunk when it comes to xxunk / structural analysis regardless of politics xxbos 3 out of the 4 people xxmaj i 'm camping</td>\n",
              "    </tr>\n",
              "    <tr>\n",
              "      <th>54</th>\n",
              "      <td>t.co / xxunk xxbos @peterjukes a crime that killed / displaced millions . xxmaj in which xxunk torture was carried out . xxmaj but look . xxunk fired a gun ! xxmaj arrest him ! xxbos xxunk xxmaj but xxunk not crushed ? xxmaj it doesnûªt set up some negative self - xxunk xxunk or negative self - talk ? # xxunk xxbos xxunk godslove &amp; &amp; # thanku xxunk sister xxmaj</td>\n",
              "      <td>/ xxunk xxbos @peterjukes a crime that killed / displaced millions . xxmaj in which xxunk torture was carried out . xxmaj but look . xxunk fired a gun ! xxmaj arrest him ! xxbos xxunk xxmaj but xxunk not crushed ? xxmaj it doesnûªt set up some negative self - xxunk xxunk or negative self - talk ? # xxunk xxbos xxunk godslove &amp; &amp; # thanku xxunk sister xxmaj xxunk</td>\n",
              "    </tr>\n",
              "    <tr>\n",
              "      <th>55</th>\n",
              "      <td>a step so i could get through … . xxbos xxmaj ignition xxmaj knock ( detonation ) xxmaj sensor acdelco xxup gm xxmaj original xxmaj equipment 213 - xxunk http : / / t.co / xxunk http : / / t.co / xxunk xxbos ? xxmaj stretcher in 5 min / / xxmaj speaker xxmaj deck http : / / t.co / xxunk # xxunk xxbos xxmaj oh itûªs a soccer ball</td>\n",
              "      <td>step so i could get through … . xxbos xxmaj ignition xxmaj knock ( detonation ) xxmaj sensor acdelco xxup gm xxmaj original xxmaj equipment 213 - xxunk http : / / t.co / xxunk http : / / t.co / xxunk xxbos ? xxmaj stretcher in 5 min / / xxmaj speaker xxmaj deck http : / / t.co / xxunk # xxunk xxbos xxmaj oh itûªs a soccer ball ?</td>\n",
              "    </tr>\n",
              "    <tr>\n",
              "      <th>56</th>\n",
              "      <td>of xxmaj obliteration … xxunk xxbos xxmaj businesses are deluged with invoices . xxmaj make yours stand out with colour or shape and it 's likely to xxunk . xxunk top of the pay ' pile . xxbos xxmaj xxunk xxmaj xxunk ca n't come to deal # xxunk # xxmaj avalanche http : / / t.co / xxunk http : / / t.co / xxunk xxbos a xxmaj year xxmaj later</td>\n",
              "      <td>xxmaj obliteration … xxunk xxbos xxmaj businesses are deluged with invoices . xxmaj make yours stand out with colour or shape and it 's likely to xxunk . xxunk top of the pay ' pile . xxbos xxmaj xxunk xxmaj xxunk ca n't come to deal # xxunk # xxmaj avalanche http : / / t.co / xxunk http : / / t.co / xxunk xxbos a xxmaj year xxmaj later xxmaj</td>\n",
              "    </tr>\n",
              "    <tr>\n",
              "      <th>57</th>\n",
              "      <td>xxunk # xxup xxunk # xxup xxunk xxbos xxmaj young children among those rescued from capsized boat off xxmaj libya http : / / t.co / xxunk via xxunk xxbos xxunk mhtw4fnet \\n\\n a sad reminder of nuclear devastation - xxmaj washington xxmaj post xxbos xxmaj if you decide to get rid of # flood damaged # xxunk solid waste will pick it up for a fee . xxmaj you can call</td>\n",
              "      <td># xxup xxunk # xxup xxunk xxbos xxmaj young children among those rescued from capsized boat off xxmaj libya http : / / t.co / xxunk via xxunk xxbos xxunk mhtw4fnet \\n\\n a sad reminder of nuclear devastation - xxmaj washington xxmaj post xxbos xxmaj if you decide to get rid of # flood damaged # xxunk solid waste will pick it up for a fee . xxmaj you can call #</td>\n",
              "    </tr>\n",
              "    <tr>\n",
              "      <th>58</th>\n",
              "      <td>xxunk xxmaj i 'm good at xxbos xxunk xxunk xxmaj who said xxunk and fruit was good for you . xxmaj hope there 's been no injuries or fatalities . xxbos xxmaj in your eyes i see the hope \\n i once knew . \\n xxmaj i 'm sinking . \\n xxmaj i 'm sinking \\n away from you . \\n xxmaj do n't turn around \\n you 'll see … \\n\\n</td>\n",
              "      <td>xxmaj i 'm good at xxbos xxunk xxunk xxmaj who said xxunk and fruit was good for you . xxmaj hope there 's been no injuries or fatalities . xxbos xxmaj in your eyes i see the hope \\n i once knew . \\n xxmaj i 'm sinking . \\n xxmaj i 'm sinking \\n away from you . \\n xxmaj do n't turn around \\n you 'll see … \\n\\n xxmaj</td>\n",
              "    </tr>\n",
              "    <tr>\n",
              "      <th>59</th>\n",
              "      <td>xxmaj hundred xxmaj million xxmaj xxunk ? http : / / t.co / xxunk xxbos am boy xxunk xxrep 7 _ https : / / t.co / xxunk xxbos a xxmaj mad xxmaj catastrophe : xxmaj the xxmaj outbreak of xxmaj world xxmaj war i and the xxmaj collapse of the … http : / / t.co / xxunk http : / / t.co / xxunk xxbos xxunk xxmaj it is xxunk</td>\n",
              "      <td>hundred xxmaj million xxmaj xxunk ? http : / / t.co / xxunk xxbos am boy xxunk xxrep 7 _ https : / / t.co / xxunk xxbos a xxmaj mad xxmaj catastrophe : xxmaj the xxmaj outbreak of xxmaj world xxmaj war i and the xxmaj collapse of the … http : / / t.co / xxunk http : / / t.co / xxunk xxbos xxunk xxmaj it is xxunk !</td>\n",
              "    </tr>\n",
              "    <tr>\n",
              "      <th>60</th>\n",
              "      <td>xxmaj xxunk xxmaj scream all in the space of a few hours on xxmaj sunday xxbos xxmaj holy xxunk that was crushed . xxbos xxmaj but … ! xxmaj oh ! \\n\\n xxmaj how xxunk the xxunk ? ! \\n\\n xxmaj how wonderful the upheaval ! ? \\n\\n xxunk xxbos xxmaj police xxmaj officer xxmaj wounded xxmaj suspect xxmaj dead xxmaj after xxmaj exchanging xxmaj shots xxbos xxmaj christian xxmaj attacked by</td>\n",
              "      <td>xxunk xxmaj scream all in the space of a few hours on xxmaj sunday xxbos xxmaj holy xxunk that was crushed . xxbos xxmaj but … ! xxmaj oh ! \\n\\n xxmaj how xxunk the xxunk ? ! \\n\\n xxmaj how wonderful the upheaval ! ? \\n\\n xxunk xxbos xxmaj police xxmaj officer xxmaj wounded xxmaj suspect xxmaj dead xxmaj after xxmaj exchanging xxmaj shots xxbos xxmaj christian xxmaj attacked by xxmaj</td>\n",
              "    </tr>\n",
              "    <tr>\n",
              "      <th>61</th>\n",
              "      <td>xxunk part 1 xxbos xxmaj displaced xxbos xxup c-130 specially modified to land in a stadium and rescue hostages in xxmaj iran in 1980 … http : / / t.co / xxunk http : / / t.co / xxunk xxbos i xxunk it feels like i m about to explode ? ? xxbos # xxunk if you do xxunk you xxup will get video - bombed . xxbos xxmaj tension xxmaj in</td>\n",
              "      <td>part 1 xxbos xxmaj displaced xxbos xxup c-130 specially modified to land in a stadium and rescue hostages in xxmaj iran in 1980 … http : / / t.co / xxunk http : / / t.co / xxunk xxbos i xxunk it feels like i m about to explode ? ? xxbos # xxunk if you do xxunk you xxup will get video - bombed . xxbos xxmaj tension xxmaj in xxmaj</td>\n",
              "    </tr>\n",
              "    <tr>\n",
              "      <th>62</th>\n",
              "      <td>people we do n't want to be and we hardly see it happening xxbos xxunk xxmaj we need help ! xxmaj horses will xxunk xxup rt &amp; &amp; sign xxunk a stand &amp; &amp; be a voice for them ! # gilbert23 https : / / t.co / e8dl1lncvu xxbos ca n't eat a wildfire chicken xxunk without thinking of / missing xxunk ? ? xxbos xxmaj they turned xxmaj xxunk house</td>\n",
              "      <td>we do n't want to be and we hardly see it happening xxbos xxunk xxmaj we need help ! xxmaj horses will xxunk xxup rt &amp; &amp; sign xxunk a stand &amp; &amp; be a voice for them ! # gilbert23 https : / / t.co / e8dl1lncvu xxbos ca n't eat a wildfire chicken xxunk without thinking of / missing xxunk ? ? xxbos xxmaj they turned xxmaj xxunk house into</td>\n",
              "    </tr>\n",
              "    <tr>\n",
              "      <th>63</th>\n",
              "      <td>xxunk about xxmaj hiroshima xxunk by xxmaj john xxmaj hurt . 2 xxmaj xxunk that interviews xxmaj pilots + xxmaj survivors . xxbos http : / / t.co / xxunk xxmaj risk xxmaj xxunk and xxmaj xxunk for xxmaj xxunk xxmaj hazardous xxmaj waste xxmaj collection # xxunk environmental xxbos xxmaj xxunk 's ' m : i 5 ' emergency plan : xxmaj awesome fail http : / / t.co / xxunk</td>\n",
              "      <td>about xxmaj hiroshima xxunk by xxmaj john xxmaj hurt . 2 xxmaj xxunk that interviews xxmaj pilots + xxmaj survivors . xxbos http : / / t.co / xxunk xxmaj risk xxmaj xxunk and xxmaj xxunk for xxmaj xxunk xxmaj hazardous xxmaj waste xxmaj collection # xxunk environmental xxbos xxmaj xxunk 's ' m : i 5 ' emergency plan : xxmaj awesome fail http : / / t.co / xxunk xxbos</td>\n",
              "    </tr>\n",
              "  </tbody>\n",
              "</table>"
            ],
            "text/plain": [
              "<IPython.core.display.HTML object>"
            ]
          },
          "metadata": {
            "tags": []
          }
        }
      ]
    },
    {
      "cell_type": "code",
      "metadata": {
        "id": "je9vyA53guJ_",
        "colab_type": "code",
        "colab": {}
      },
      "source": [
        "# Saving the dataloader for fast use in the future\n",
        "\n",
        "torch.save(dls_lm, '/content/drive/My Drive/NLP/twitter/disaster_tweets_dls_lm.pkl')\n"
      ],
      "execution_count": 83,
      "outputs": []
    },
    {
      "cell_type": "code",
      "metadata": {
        "id": "cMV-5TXUg2Pm",
        "colab_type": "code",
        "colab": {}
      },
      "source": [
        "# To load the Dataloaders in the future\n",
        "\n",
        "dls_lm = torch.load('/content/drive/My Drive/NLP/twitter/disaster_tweets_dls_lm.pkl')\n"
      ],
      "execution_count": 84,
      "outputs": []
    },
    {
      "cell_type": "code",
      "metadata": {
        "id": "10rBsIVUhAOb",
        "colab_type": "code",
        "colab": {}
      },
      "source": [
        "learn = language_model_learner(\n",
        "    dls_lm, AWD_LSTM,\n",
        "    metrics=[accuracy, Perplexity()]).to_fp16()"
      ],
      "execution_count": 85,
      "outputs": []
    },
    {
      "cell_type": "code",
      "metadata": {
        "id": "yR93_JyblWtP",
        "colab_type": "code",
        "colab": {
          "base_uri": "https://localhost:8080/",
          "height": 510
        },
        "outputId": "12582263-028c-4e96-d614-ec0b81d80839"
      },
      "source": [
        "learn.model"
      ],
      "execution_count": 86,
      "outputs": [
        {
          "output_type": "execute_result",
          "data": {
            "text/plain": [
              "SequentialRNN(\n",
              "  (0): AWD_LSTM(\n",
              "    (encoder): Embedding(5832, 400, padding_idx=1)\n",
              "    (encoder_dp): EmbeddingDropout(\n",
              "      (emb): Embedding(5832, 400, padding_idx=1)\n",
              "    )\n",
              "    (rnns): ModuleList(\n",
              "      (0): WeightDropout(\n",
              "        (module): LSTM(400, 1152, batch_first=True)\n",
              "      )\n",
              "      (1): WeightDropout(\n",
              "        (module): LSTM(1152, 1152, batch_first=True)\n",
              "      )\n",
              "      (2): WeightDropout(\n",
              "        (module): LSTM(1152, 400, batch_first=True)\n",
              "      )\n",
              "    )\n",
              "    (input_dp): RNNDropout()\n",
              "    (hidden_dps): ModuleList(\n",
              "      (0): RNNDropout()\n",
              "      (1): RNNDropout()\n",
              "      (2): RNNDropout()\n",
              "    )\n",
              "  )\n",
              "  (1): LinearDecoder(\n",
              "    (decoder): Linear(in_features=400, out_features=5832, bias=True)\n",
              "    (output_dp): RNNDropout()\n",
              "  )\n",
              ")"
            ]
          },
          "metadata": {
            "tags": []
          },
          "execution_count": 86
        }
      ]
    },
    {
      "cell_type": "code",
      "metadata": {
        "id": "6uFlAfu7laux",
        "colab_type": "code",
        "colab": {
          "base_uri": "https://localhost:8080/",
          "height": 300
        },
        "outputId": "a2462b64-4892-4564-f913-26c25154c25d"
      },
      "source": [
        "learn.lr_find()\n"
      ],
      "execution_count": 87,
      "outputs": [
        {
          "output_type": "display_data",
          "data": {
            "text/html": [
              ""
            ],
            "text/plain": [
              "<IPython.core.display.HTML object>"
            ]
          },
          "metadata": {
            "tags": []
          }
        },
        {
          "output_type": "execute_result",
          "data": {
            "text/plain": [
              "SuggestedLRs(lr_min=0.07585775852203369, lr_steep=0.04786301031708717)"
            ]
          },
          "metadata": {
            "tags": []
          },
          "execution_count": 87
        },
        {
          "output_type": "display_data",
          "data": {
            "image/png": "[encoded data removed]",
            "text/plain": [
              "<Figure size 432x288 with 1 Axes>"
            ]
          },
          "metadata": {
            "tags": [],
            "needs_background": "light"
          }
        }
      ]
    },
    {
      "cell_type": "code",
      "metadata": {
        "id": "rIpLs_d1lcuo",
        "colab_type": "code",
        "colab": {
          "base_uri": "https://localhost:8080/",
          "height": 267
        },
        "outputId": "c7b3d76b-459d-4576-e20f-29d511b28262"
      },
      "source": [
        "learn.fine_tune(5, 1e-2)"
      ],
      "execution_count": 88,
      "outputs": [
        {
          "output_type": "display_data",
          "data": {
            "text/html": [
              "<table border=\"1\" class=\"dataframe\">\n",
              "  <thead>\n",
              "    <tr style=\"text-align: left;\">\n",
              "      <th>epoch</th>\n",
              "      <th>train_loss</th>\n",
              "      <th>valid_loss</th>\n",
              "      <th>accuracy</th>\n",
              "      <th>perplexity</th>\n",
              "      <th>time</th>\n",
              "    </tr>\n",
              "  </thead>\n",
              "  <tbody>\n",
              "    <tr>\n",
              "      <td>0</td>\n",
              "      <td>4.982881</td>\n",
              "      <td>3.664949</td>\n",
              "      <td>0.392485</td>\n",
              "      <td>39.054161</td>\n",
              "      <td>00:42</td>\n",
              "    </tr>\n",
              "  </tbody>\n",
              "</table>"
            ],
            "text/plain": [
              "<IPython.core.display.HTML object>"
            ]
          },
          "metadata": {
            "tags": []
          }
        },
        {
          "output_type": "display_data",
          "data": {
            "text/html": [
              "<table border=\"1\" class=\"dataframe\">\n",
              "  <thead>\n",
              "    <tr style=\"text-align: left;\">\n",
              "      <th>epoch</th>\n",
              "      <th>train_loss</th>\n",
              "      <th>valid_loss</th>\n",
              "      <th>accuracy</th>\n",
              "      <th>perplexity</th>\n",
              "      <th>time</th>\n",
              "    </tr>\n",
              "  </thead>\n",
              "  <tbody>\n",
              "    <tr>\n",
              "      <td>0</td>\n",
              "      <td>3.889367</td>\n",
              "      <td>3.376483</td>\n",
              "      <td>0.421583</td>\n",
              "      <td>29.267668</td>\n",
              "      <td>00:50</td>\n",
              "    </tr>\n",
              "    <tr>\n",
              "      <td>1</td>\n",
              "      <td>3.628446</td>\n",
              "      <td>3.149867</td>\n",
              "      <td>0.448497</td>\n",
              "      <td>23.332968</td>\n",
              "      <td>00:50</td>\n",
              "    </tr>\n",
              "    <tr>\n",
              "      <td>2</td>\n",
              "      <td>3.400688</td>\n",
              "      <td>3.049626</td>\n",
              "      <td>0.464086</td>\n",
              "      <td>21.107447</td>\n",
              "      <td>00:50</td>\n",
              "    </tr>\n",
              "    <tr>\n",
              "      <td>3</td>\n",
              "      <td>3.238569</td>\n",
              "      <td>3.005134</td>\n",
              "      <td>0.471018</td>\n",
              "      <td>20.188923</td>\n",
              "      <td>00:50</td>\n",
              "    </tr>\n",
              "    <tr>\n",
              "      <td>4</td>\n",
              "      <td>3.139229</td>\n",
              "      <td>2.997877</td>\n",
              "      <td>0.473011</td>\n",
              "      <td>20.042938</td>\n",
              "      <td>00:50</td>\n",
              "    </tr>\n",
              "  </tbody>\n",
              "</table>"
            ],
            "text/plain": [
              "<IPython.core.display.HTML object>"
            ]
          },
          "metadata": {
            "tags": []
          }
        }
      ]
    },
    {
      "cell_type": "code",
      "metadata": {
        "id": "QsTTUPSlmUHD",
        "colab_type": "code",
        "colab": {}
      },
      "source": [
        "learn.save_encoder('/content/drive/My Drive/NLP/twitter/models/finetuned')\n"
      ],
      "execution_count": 89,
      "outputs": []
    },
    {
      "cell_type": "code",
      "metadata": {
        "id": "6nj14_AlmUna",
        "colab_type": "code",
        "colab": {}
      },
      "source": [
        "blocks = (TextBlock.from_df('text', seq_len=dls_lm.seq_len, max_vocab=6000), CategoryBlock())\n",
        "dls = DataBlock(blocks=blocks,\n",
        "                get_x=ColReader('text'),\n",
        "                get_y=ColReader('target'),\n",
        "                splitter=RandomSplitter(0.1))"
      ],
      "execution_count": 90,
      "outputs": []
    },
    {
      "cell_type": "code",
      "metadata": {
        "id": "5s9hUWMKmXl_",
        "colab_type": "code",
        "colab": {
          "base_uri": "https://localhost:8080/",
          "height": 17
        },
        "outputId": "dea5db17-93f7-4202-f0be-9a717f81f15f"
      },
      "source": [
        "dls = dls.dataloaders(train, bs=64)"
      ],
      "execution_count": 91,
      "outputs": [
        {
          "output_type": "display_data",
          "data": {
            "text/html": [
              ""
            ],
            "text/plain": [
              "<IPython.core.display.HTML object>"
            ]
          },
          "metadata": {
            "tags": []
          }
        }
      ]
    },
    {
      "cell_type": "code",
      "metadata": {
        "id": "B6CavQtLmaBI",
        "colab_type": "code",
        "colab": {
          "base_uri": "https://localhost:8080/",
          "height": 1000
        },
        "outputId": "29640519-d320-4ab3-f764-b1484986dc78"
      },
      "source": [
        "dls.show_batch(max_n=100)"
      ],
      "execution_count": 92,
      "outputs": [
        {
          "output_type": "display_data",
          "data": {
            "text/html": [
              "<table border=\"1\" class=\"dataframe\">\n",
              "  <thead>\n",
              "    <tr style=\"text-align: right;\">\n",
              "      <th></th>\n",
              "      <th>text</th>\n",
              "      <th>category</th>\n",
              "    </tr>\n",
              "  </thead>\n",
              "  <tbody>\n",
              "    <tr>\n",
              "      <th>0</th>\n",
              "      <td>xxbos _ \\n▁ xxrep 5 ? xxup retweet \\n▁ xxrep 7 ? \\n▁ xxrep 5 ? xxup follow xxup all xxup who xxup rt \\n▁ xxrep 7 ? \\n▁ xxrep 5 ? xxup xxunk \\n▁ xxrep 7 ? \\n▁ xxrep 5 ? xxup gain xxup with \\n▁ xxrep 7 ? \\n▁ xxrep 5 ? xxup follow ? xxunk # xxup xxunk \\n▁ # xxup ty</td>\n",
              "      <td>0</td>\n",
              "    </tr>\n",
              "    <tr>\n",
              "      <th>1</th>\n",
              "      <td>xxbos . : . : . : . : . : . : . : . : . : . : . : . : . : . : . : . : . : . : . : . : . : xxup rt xxunk : # xxunk \\n\\n xxmaj indian xxmaj army xxunk _ http : / / t.co / xxunk g xxpad</td>\n",
              "      <td>0</td>\n",
              "    </tr>\n",
              "    <tr>\n",
              "      <th>2</th>\n",
              "      <td>xxbos i xxmaj hate xxmaj to xxmaj talking xxmaj xxunk xxmaj with xxmaj my xxmaj xxunk … i xxmaj mean i xxmaj love xxmaj her xxmaj as xxmaj to xxmaj death xxmaj but xxmaj she xxmaj talk xxmaj so xxmaj damn xxmaj much xxmaj xxunk xxrep 3 h xxrep 3 e xxunk xxrep 3 ! xxrep 6 ? xxpad xxpad xxpad xxpad xxpad xxpad xxpad</td>\n",
              "      <td>0</td>\n",
              "    </tr>\n",
              "    <tr>\n",
              "      <th>3</th>\n",
              "      <td>xxbos xxmaj truth … \\n https : / / t.co / xxunk \\n▁ # xxmaj news \\n▁ # xxup bbc \\n▁ # xxup cnn \\n▁ # xxmaj islam \\n▁ # xxmaj truth \\n▁ # god \\n▁ # xxup isis \\n▁ # terrorism \\n▁ # xxmaj quran \\n▁ # xxmaj lies http : / / t.co / xxunk xxpad xxpad xxpad xxpad xxpad xxpad xxpad xxpad</td>\n",
              "      <td>0</td>\n",
              "    </tr>\n",
              "    <tr>\n",
              "      <th>4</th>\n",
              "      <td>xxbos xxmaj truth … \\n https : / / t.co / xxunk \\n▁ # xxmaj news \\n▁ # xxup bbc \\n▁ # xxup cnn \\n▁ # xxmaj islam \\n▁ # xxmaj truth \\n▁ # god \\n▁ # xxup isis \\n▁ # terrorism \\n▁ # xxmaj quran \\n▁ # xxmaj lies http : / / t.co / xxunk xxpad xxpad xxpad xxpad xxpad xxpad xxpad xxpad</td>\n",
              "      <td>1</td>\n",
              "    </tr>\n",
              "    <tr>\n",
              "      <th>5</th>\n",
              "      <td>xxbos xxmaj truth … \\n https : / / t.co / xxunk \\n▁ # xxmaj news \\n▁ # xxup bbc \\n▁ # xxup cnn \\n▁ # xxmaj islam \\n▁ # xxmaj truth \\n▁ # god \\n▁ # xxup isis \\n▁ # terrorism \\n▁ # xxmaj quran \\n▁ # xxmaj lies http : / / t.co / xxunk xxpad xxpad xxpad xxpad xxpad xxpad xxpad xxpad</td>\n",
              "      <td>0</td>\n",
              "    </tr>\n",
              "    <tr>\n",
              "      <th>6</th>\n",
              "      <td>xxbos xxmaj no # news of # hostages in # xxmaj libya \\n\\n http : / / t.co / xxunk \\n\\n▁ # xxmaj india # terrorism # xxmaj africa # xxup ap # xxup ts # xxup nri # xxmaj news # xxup trs # xxup tdp # xxup bjp http : / / t.co / xxunk xxpad xxpad xxpad xxpad xxpad xxpad xxpad xxpad</td>\n",
              "      <td>1</td>\n",
              "    </tr>\n",
              "    <tr>\n",
              "      <th>7</th>\n",
              "      <td>xxbos xxmaj truth … \\n https : / / t.co / xxunk \\n▁ # xxmaj news \\n▁ # xxup bbc \\n▁ # xxup cnn \\n▁ # xxmaj islam \\n▁ # xxmaj truth \\n▁ # god \\n▁ # xxup isis \\n▁ # terrorism \\n▁ # xxmaj quran \\n▁ # xxmaj lies http : / / t.co / xxunk xxpad xxpad xxpad xxpad xxpad xxpad xxpad xxpad</td>\n",
              "      <td>1</td>\n",
              "    </tr>\n",
              "    <tr>\n",
              "      <th>8</th>\n",
              "      <td>xxbos xxmaj truth … \\n https : / / t.co / xxunk \\n▁ # xxmaj news \\n▁ # xxup bbc \\n▁ # xxup cnn \\n▁ # xxmaj islam \\n▁ # xxmaj truth \\n▁ # god \\n▁ # xxup isis \\n▁ # terrorism \\n▁ # xxmaj quran \\n▁ # xxmaj lies http : / / t.co / xxunk xxpad xxpad xxpad xxpad xxpad xxpad xxpad xxpad</td>\n",
              "      <td>1</td>\n",
              "    </tr>\n",
              "    <tr>\n",
              "      <th>9</th>\n",
              "      <td>xxbos xxmaj no # news of # hostages in # xxmaj libya \\n\\n http : / / t.co / xxunk \\n\\n▁ # xxmaj india # terrorism # xxmaj africa # xxup ap # xxup ts # xxup nri # xxmaj news # xxup trs # xxup tdp # xxup bjp http : / / t.co / xxunk xxpad xxpad xxpad xxpad xxpad xxpad xxpad xxpad</td>\n",
              "      <td>1</td>\n",
              "    </tr>\n",
              "    <tr>\n",
              "      <th>10</th>\n",
              "      <td>xxbos xxmaj the xxmaj fake of xxmaj xxunk xxmaj xxunk xxmaj xxunk ( english ) : http : / / t.co / xxunk # xxmaj obama # xxmaj clinton # xxmaj bush # xxup gop # xxup abc # xxup xxunk # xxup bbc # xxup cnn # xxup xxunk # xxup xxunk xxpad xxpad xxpad xxpad xxpad xxpad xxpad xxpad xxpad xxpad xxpad xxpad</td>\n",
              "      <td>1</td>\n",
              "    </tr>\n",
              "    <tr>\n",
              "      <th>11</th>\n",
              "      <td>xxbos xxmaj check out ' want xxmaj twister xxmaj tickets xxup and a xxup vip xxup experience xxmaj to xxmaj see xxup xxunk ? xxup click xxup here : ' at http : / / t.co / xxunk \\n i would xxwrep 3 xxmaj love ! ! xxmaj to win xxpad xxpad xxpad xxpad xxpad xxpad xxpad xxpad xxpad xxpad xxpad xxpad xxpad xxpad xxpad</td>\n",
              "      <td>0</td>\n",
              "    </tr>\n",
              "    <tr>\n",
              "      <th>12</th>\n",
              "      <td>xxbos xxmaj offers : http : / / t.co / xxunk # xxunk xxmaj xxunk xxmaj toilet xxmaj safety xxmaj support / xxmaj health / xxmaj home / xxmaj bathroom / xxmaj support / xxmaj xxunk / xxmaj injured / xxup sû _ http : / / t.co / xxunk xxpad xxpad xxpad xxpad xxpad xxpad xxpad xxpad xxpad xxpad xxpad xxpad xxpad xxpad xxpad</td>\n",
              "      <td>1</td>\n",
              "    </tr>\n",
              "    <tr>\n",
              "      <th>13</th>\n",
              "      <td>xxbos i xxup hate xxup when xxup i m xxup trying xxup to xxup xxunk xxup my xxup hair xxup and xxup my xxup brother xxup comes xxup xxunk xxup in xxup behind xxup me xxup and xxup xxunk xxup me i xxup just xxup burned xxup my xxup finger xxpad xxpad xxpad xxpad xxpad xxpad xxpad xxpad xxpad xxpad xxpad xxpad xxpad xxpad xxpad</td>\n",
              "      <td>0</td>\n",
              "    </tr>\n",
              "    <tr>\n",
              "      <th>14</th>\n",
              "      <td>xxbos xxmaj strong xxmaj thunderstorm 4 xxmaj miles xxmaj north of xxmaj xxunk xxmaj moving xxup se xxmaj at 25 xxup mph . xxmaj large xxmaj hail and xxmaj wind xxmaj gusts xxmaj up to 50 xxup mph xxmaj xxunk … # arwx http : / / t.co / xxunk xxpad xxpad xxpad xxpad xxpad xxpad xxpad xxpad xxpad xxpad xxpad xxpad xxpad xxpad xxpad</td>\n",
              "      <td>1</td>\n",
              "    </tr>\n",
              "    <tr>\n",
              "      <th>15</th>\n",
              "      <td>xxbos xxmaj morgan xxmaj silver xxmaj dollar xxunk s xxmaj gem xxup bu xxup xxunk xxmaj xxunk xxmaj xxunk xxmaj blazing xxup ms xxrep 5 + xxmaj high grade ! - xxmaj full read û _ http : / / t.co / xxunk http : / / t.co / xxunk xxpad xxpad xxpad xxpad xxpad xxpad xxpad xxpad xxpad xxpad xxpad xxpad xxpad xxpad xxpad</td>\n",
              "      <td>0</td>\n",
              "    </tr>\n",
              "    <tr>\n",
              "      <th>16</th>\n",
              "      <td>xxbos # nowplaying * xxmaj cliff xxmaj richard - i xxmaj could xxmaj easily xxmaj fall ( in xxmaj love xxmaj with xxmaj you ) ( &amp; &amp; xxmaj xxunk ) * # xxmaj internet # xxmaj xxunk # xxmaj radio xxmaj on http : / / t.co / xxunk xxpad xxpad xxpad xxpad xxpad xxpad xxpad xxpad xxpad xxpad xxpad xxpad xxpad xxpad xxpad</td>\n",
              "      <td>0</td>\n",
              "    </tr>\n",
              "    <tr>\n",
              "      <th>17</th>\n",
              "      <td>xxbos xxmaj morgan xxmaj silver xxmaj dollar xxunk s xxmaj gem xxup bu xxup xxunk xxmaj xxunk xxmaj xxunk xxmaj blazing xxup ms xxrep 5 + xxmaj high grade ! - xxmaj full read û _ http : / / t.co / xxunk http : / / t.co / xxunk xxpad xxpad xxpad xxpad xxpad xxpad xxpad xxpad xxpad xxpad xxpad xxpad xxpad xxpad xxpad</td>\n",
              "      <td>0</td>\n",
              "    </tr>\n",
              "    <tr>\n",
              "      <th>18</th>\n",
              "      <td>xxbos * new * xxmaj snap xxmaj on xxmaj tools xxmaj black baseball xxmaj hat / xxmaj cap xxmaj silver / xxmaj gray xxmaj embroidered s xxmaj logo xxmaj flames - xxmaj full reû _ http : / / t.co / xxunk http : / / t.co / xxunk xxpad xxpad xxpad xxpad xxpad xxpad xxpad xxpad xxpad xxpad xxpad xxpad xxpad xxpad xxpad xxpad</td>\n",
              "      <td>0</td>\n",
              "    </tr>\n",
              "    <tr>\n",
              "      <th>19</th>\n",
              "      <td>xxbos xxmaj new post on my blog : http : / / t.co / xxmaj xxunk \\n xxunk : \\n\\n xxmaj model : xxmaj cam xxmaj damage \\n\\n xxmaj toronto xxmaj xxunk 2014 \\n\\n▁ # nsfw # pussy # ass # xxunk # asian # nude # û _ xxpad xxpad xxpad xxpad xxpad xxpad xxpad xxpad xxpad xxpad xxpad xxpad xxpad xxpad xxpad xxpad</td>\n",
              "      <td>0</td>\n",
              "    </tr>\n",
              "    <tr>\n",
              "      <th>20</th>\n",
              "      <td>xxbos xxmaj conditions for xxmaj paris xxup fr at xxunk am xxup xxunk : xxmaj current xxmaj conditions : \\n xxmaj fair xxunk xxunk : \\n xxmaj xxunk - xxmaj xxunk . xxmaj high : xxunk xxmaj low : xxunk \\n xxmaj xxunk - xxup pm xxmaj thunderstorm … xxpad xxpad xxpad xxpad xxpad xxpad xxpad xxpad xxpad xxpad xxpad xxpad xxpad xxpad xxpad xxpad</td>\n",
              "      <td>0</td>\n",
              "    </tr>\n",
              "    <tr>\n",
              "      <th>21</th>\n",
              "      <td>xxbos xxmaj baltimore xxmaj city : xxup xxunk xxup north xxup at xxup mp xxunk ( fort xxup xxunk xxup tunnel xxup bore 3 : xxmaj collision : xxup xxunk xxup north xxup at xxup mp xxunk ( fort xxup xxunk xxup tunnel xxup bore 3 xxmaj xxunk … xxpad xxpad xxpad xxpad xxpad xxpad xxpad xxpad xxpad xxpad xxpad xxpad xxpad xxpad xxpad xxpad</td>\n",
              "      <td>1</td>\n",
              "    </tr>\n",
              "    <tr>\n",
              "      <th>22</th>\n",
              "      <td>xxbos xxmaj last xxmaj second xxunk xxup rt ? http : / / t.co / xxunk 2 - xxmaj xxunk xxup xxunk xxmaj twister xxmaj xxunk 3 / 4 ' xxunk xxmaj fuel xxmaj line xxmaj made xxmaj in xxmaj usa ? please xxmaj favorite &amp; &amp; xxmaj xxunk xxpad xxpad xxpad xxpad xxpad xxpad xxpad xxpad xxpad xxpad xxpad xxpad xxpad xxpad xxpad xxpad</td>\n",
              "      <td>0</td>\n",
              "    </tr>\n",
              "    <tr>\n",
              "      <th>23</th>\n",
              "      <td>xxbos xxunk } xxmaj new xxmaj ladies xxmaj shoulder xxmaj tote # xxmaj handbag xxmaj faux xxmaj leather xxmaj hobo xxmaj purse xxmaj cross xxmaj body xxmaj bag # xxmaj womens http : / / t.co / xxunk http : / / t.co / xxunk xxup rt xxunk _ xxpad xxpad xxpad xxpad xxpad xxpad xxpad xxpad xxpad xxpad xxpad xxpad xxpad xxpad xxpad xxpad</td>\n",
              "      <td>0</td>\n",
              "    </tr>\n",
              "    <tr>\n",
              "      <th>24</th>\n",
              "      <td>xxbos xxmaj haha xxmaj south xxmaj tampa is getting flooded xxunk xxup wait a xxup second i xxup live xxup in xxup south xxup tampa xxup what xxup am i xxup gon na xxup do xxup what xxup am i xxup gon na xxup do xxup xxunk # flooding xxpad xxpad xxpad xxpad xxpad xxpad xxpad xxpad xxpad xxpad xxpad xxpad xxpad xxpad xxpad xxpad</td>\n",
              "      <td>1</td>\n",
              "    </tr>\n",
              "    <tr>\n",
              "      <th>25</th>\n",
              "      <td>xxbos xxmaj we 're # hiring ! xxmaj click to apply : xxup rn xxup ii / xxup emergency xxup services / xxup ft / xxunk - http : / / t.co / xxunk # xxmaj nursing # xxmaj houston xxup xxunk http : / / t.co / xxunk xxpad xxpad xxpad xxpad xxpad xxpad xxpad xxpad xxpad xxpad xxpad xxpad xxpad xxpad xxpad xxpad</td>\n",
              "      <td>1</td>\n",
              "    </tr>\n",
              "    <tr>\n",
              "      <th>26</th>\n",
              "      <td>xxbos 12 ' xxunk xxup cree xxup led xxmaj work xxmaj light xxmaj bar xxmaj xxunk xxmaj spot xxmaj flood xxmaj combo xxmaj diving xxmaj offroad 4wd xxmaj boat - xxmaj full readû _ http : / / t.co / xxunk http : / / t.co / xxunk xxpad xxpad xxpad xxpad xxpad xxpad xxpad xxpad xxpad xxpad xxpad xxpad xxpad xxpad xxpad xxpad xxpad</td>\n",
              "      <td>0</td>\n",
              "    </tr>\n",
              "    <tr>\n",
              "      <th>27</th>\n",
              "      <td>xxbos xxmaj xxunk xxmaj casualties xxmaj all xxmaj across xxmaj the xxmaj xxunk xxmaj war xxmaj being xxmaj xxunk xxmaj on xxmaj all xxmaj the xxmaj corners xxmaj of xxmaj the xxmaj planet [ on xxmaj all xxmaj levels ] http : / / t.co / xxup xxunk xxpad xxpad xxpad xxpad xxpad xxpad xxpad xxpad xxpad xxpad xxpad xxpad xxpad xxpad xxpad xxpad xxpad</td>\n",
              "      <td>1</td>\n",
              "    </tr>\n",
              "    <tr>\n",
              "      <th>28</th>\n",
              "      <td>xxbos ? xxunk xxmaj day xxmaj since xxunk -- xxmaj nigeria : xxmaj suicide xxmaj bomb xxmaj attacks xxmaj killed 64 xxmaj people ; xxmaj blamed : xxmaj boko xxmaj haram [ l.a . xxmaj times / xxup ap ] | http : / / t.co / xxunk xxpad xxpad xxpad xxpad xxpad xxpad xxpad xxpad xxpad xxpad xxpad xxpad xxpad xxpad xxpad xxpad xxpad</td>\n",
              "      <td>1</td>\n",
              "    </tr>\n",
              "    <tr>\n",
              "      <th>29</th>\n",
              "      <td>xxbos xxup severe xxup weather xxup bulletin xxmaj no . 5 \\n xxup for : xxup typhoon ûï # xxunk ( soudelor ) \\n xxup tropical xxup cyclone : xxup warning \\n\\n xxup issued xxup at xxunk xxup pm 06 … http : / / t.co / xxunk xxpad xxpad xxpad xxpad xxpad xxpad xxpad xxpad xxpad xxpad xxpad xxpad xxpad xxpad xxpad xxpad xxpad</td>\n",
              "      <td>1</td>\n",
              "    </tr>\n",
              "    <tr>\n",
              "      <th>30</th>\n",
              "      <td>xxbos xxunk xxmaj you can now xxup pre - order the film on xxup itunes &amp; &amp; watch 9 / 15 ! ! xxup yay ! http : / / t.co / xxunk http : / / t.co / xxunk http : / / t.co / xxunk xxpad xxpad xxpad xxpad xxpad xxpad xxpad xxpad xxpad xxpad xxpad xxpad xxpad xxpad xxpad xxpad xxpad xxpad</td>\n",
              "      <td>0</td>\n",
              "    </tr>\n",
              "    <tr>\n",
              "      <th>31</th>\n",
              "      <td>xxbos xxmaj moved on to ' bang xxmaj bang xxmaj rock and xxmaj roll ' by xxunk _ . xxmaj it 's been too long since xxmaj i 've played this one loud . xxup art xxup xxunk xxup top xxup of xxup the xxup xxunk . xxpad xxpad xxpad xxpad xxpad xxpad xxpad xxpad xxpad xxpad xxpad xxpad xxpad xxpad xxpad xxpad xxpad xxpad</td>\n",
              "      <td>0</td>\n",
              "    </tr>\n",
              "    <tr>\n",
              "      <th>32</th>\n",
              "      <td>xxbos xxunk i xxup screamed xxup at xxup the xxup top xxup of xxup my xxup lungs xxup when xxup you xxup said xxup you xxup guys xxup would xxup come xxup back xxup to xxup xxunk xxup so xxup keep xxup your xxup promise # xxunk xxpad xxpad xxpad xxpad xxpad xxpad xxpad xxpad xxpad xxpad xxpad xxpad xxpad xxpad xxpad xxpad xxpad xxpad</td>\n",
              "      <td>0</td>\n",
              "    </tr>\n",
              "    <tr>\n",
              "      <th>33</th>\n",
              "      <td>xxbos xxup seismic xxup audio xxup xxunk t xxup xxunk t xxmaj xxunk xxmaj black xxmaj speaker xxup covers ( 2 ) - xxmaj xxunk of 1 = 1 xxmaj pair ! http : / / t.co / xxunk g http : / / t.co / xxunk xxpad xxpad xxpad xxpad xxpad xxpad xxpad xxpad xxpad xxpad xxpad xxpad xxpad xxpad xxpad xxpad xxpad xxpad</td>\n",
              "      <td>0</td>\n",
              "    </tr>\n",
              "    <tr>\n",
              "      <th>34</th>\n",
              "      <td>xxbos xxmaj last xxmaj second xxmaj ebay xxmaj bid xxup rt ? http : / / t.co / xxunk xxmaj xxunk xxmaj rescuers ( dvd 2010 ) xxmaj xxunk xxmaj xxunk xxmaj xxunk xxmaj xxunk xxmaj five xxmaj xxunk xxmaj xxunk xxmaj xxunk ? please xxmaj xxunk xxpad xxpad xxpad xxpad xxpad xxpad xxpad xxpad xxpad xxpad xxpad xxpad xxpad xxpad xxpad xxpad xxpad xxpad</td>\n",
              "      <td>0</td>\n",
              "    </tr>\n",
              "    <tr>\n",
              "      <th>35</th>\n",
              "      <td>xxbos xxmaj learn how to evacuate your home in the event of a # wildfire view videos at http : / / t.co / xxunk # xxup ca # xxup xxunk # xxup ut # xxup co # xxup or http : / / t.co / xxunk xxpad xxpad xxpad xxpad xxpad xxpad xxpad xxpad xxpad xxpad xxpad xxpad xxpad xxpad xxpad xxpad xxpad xxpad</td>\n",
              "      <td>1</td>\n",
              "    </tr>\n",
              "    <tr>\n",
              "      <th>36</th>\n",
              "      <td>xxbos ' i 'm there ! ' xxmaj bride &amp; &amp; xxmaj groom on mountain cliff xxunk . xxmaj ha xxmaj ha just xxunk . i xxup will xxup not xxup ever be there . xxmaj ha xxmaj ha - http : / / t.co / xxunk xxpad xxpad xxpad xxpad xxpad xxpad xxpad xxpad xxpad xxpad xxpad xxpad xxpad xxpad xxpad xxpad xxpad xxpad</td>\n",
              "      <td>0</td>\n",
              "    </tr>\n",
              "    <tr>\n",
              "      <th>37</th>\n",
              "      <td>xxbos xxmaj you xxmaj are xxmaj xxunk to xxmaj the xxmaj xxunk xxmaj explosion xxmaj summer xxmaj event 2015 ! \\n xxup when : xxmaj august xxunk xxmaj friday 2015 \\n xxup where : xxmaj ben e xxmaj xxunk … http : / / t.co / xxunk xxpad xxpad xxpad xxpad xxpad xxpad xxpad xxpad xxpad xxpad xxpad xxpad xxpad xxpad xxpad xxpad xxpad xxpad</td>\n",
              "      <td>1</td>\n",
              "    </tr>\n",
              "    <tr>\n",
              "      <th>38</th>\n",
              "      <td>xxbos 100 1 ' xxup mix xxup new xxup flat xxup double xxup xxunk xxup xxunk xxup bottle xxup xxunk xxup you xxup choose xxup mix xxup flattened - xxmaj full reû _ http : / / t.co / xxunk http : / / t.co / xxunk xxpad xxpad xxpad xxpad xxpad xxpad xxpad xxpad xxpad xxpad xxpad xxpad xxpad xxpad xxpad xxpad xxpad xxpad</td>\n",
              "      <td>0</td>\n",
              "    </tr>\n",
              "    <tr>\n",
              "      <th>39</th>\n",
              "      <td>xxbos 2pcs 18w xxup cree xxmaj led xxmaj work xxmaj light xxmaj offroad xxmaj lamp xxmaj car xxmaj truck xxmaj boat xxmaj mining 4wd xxup flood xxup beam - xxmaj full reaû _ http : / / t.co / xxunk http : / / t.co / xxunk xxpad xxpad xxpad xxpad xxpad xxpad xxpad xxpad xxpad xxpad xxpad xxpad xxpad xxpad xxpad xxpad xxpad xxpad</td>\n",
              "      <td>1</td>\n",
              "    </tr>\n",
              "    <tr>\n",
              "      <th>40</th>\n",
              "      <td>xxbos 2pcs 18w xxup cree xxmaj led xxmaj work xxmaj light xxmaj offroad xxmaj lamp xxmaj car xxmaj truck xxmaj boat xxmaj mining 4wd xxup flood xxup beam - xxmaj full reaû _ http : / / t.co / xxunk http : / / t.co / xxunk xxpad xxpad xxpad xxpad xxpad xxpad xxpad xxpad xxpad xxpad xxpad xxpad xxpad xxpad xxpad xxpad xxpad xxpad</td>\n",
              "      <td>0</td>\n",
              "    </tr>\n",
              "    <tr>\n",
              "      <th>41</th>\n",
              "      <td>xxbos xxmaj when the xxmaj last xxmaj tree xxmaj is xxmaj cut xxmaj down the xxmaj last xxmaj fish xxmaj eaten and the xxmaj last xxmaj stream xxmaj xxunk xxmaj you xxmaj will xxmaj realize xxmaj that xxmaj you … http : / / t.co / xxunk xxpad xxpad xxpad xxpad xxpad xxpad xxpad xxpad xxpad xxpad xxpad xxpad xxpad xxpad xxpad xxpad xxpad xxpad</td>\n",
              "      <td>0</td>\n",
              "    </tr>\n",
              "    <tr>\n",
              "      <th>42</th>\n",
              "      <td>xxbos xxup the xxup national xxup weather xxup service xxup in xxup little xxup rock xxup has xxup issued a * xxup severe xxup thunderstorm xxup warning xxup for … xxup van xxup xxunk xxup county xxup in û _ http : / / t.co / xxunk xxpad xxpad xxpad xxpad xxpad xxpad xxpad xxpad xxpad xxpad xxpad xxpad xxpad xxpad xxpad xxpad xxpad xxpad</td>\n",
              "      <td>1</td>\n",
              "    </tr>\n",
              "    <tr>\n",
              "      <th>43</th>\n",
              "      <td>xxbos xxmaj video : xxmaj new xxup de xxmaj xxunk xxmaj thomas on being a xxmaj cyclone - xxmaj xxunk xxmaj tribune : xxmaj xxunk xxmaj tribune xxmaj video : xxmaj new xxup de xxmaj xxunk xxmaj thomas xxunk _ http : / / t.co / xxunk xxpad xxpad xxpad xxpad xxpad xxpad xxpad xxpad xxpad xxpad xxpad xxpad xxpad xxpad xxpad xxpad xxpad xxpad</td>\n",
              "      <td>0</td>\n",
              "    </tr>\n",
              "    <tr>\n",
              "      <th>44</th>\n",
              "      <td>xxbos xxup ik xxmaj only xxmaj xxunk xxmaj his xxmaj xxunk xxmaj xxunk xxmaj never xxmaj literally xxmaj xxunk xxmaj them xxmaj or xxmaj attacked xxmaj their xxmaj families . xxmaj while xxmaj all xxmaj of xxmaj them xxmaj literally xxmaj abuse xxup ik . xxmaj xxunk xxpad xxpad xxpad xxpad xxpad xxpad xxpad xxpad xxpad xxpad xxpad xxpad xxpad xxpad xxpad xxpad xxpad xxpad</td>\n",
              "      <td>0</td>\n",
              "    </tr>\n",
              "    <tr>\n",
              "      <th>45</th>\n",
              "      <td>xxbos xxmaj spot xxmaj flood xxmaj combo 53inch 300w xxmaj curved xxmaj cree xxup led xxmaj work xxmaj light xxmaj bar 4x4 xxmaj offroad xxmaj fog xxmaj lamp - xxmaj full reû _ http : / / t.co / xxunk http : / / t.co / xxunk xxpad xxpad xxpad xxpad xxpad xxpad xxpad xxpad xxpad xxpad xxpad xxpad xxpad xxpad xxpad xxpad xxpad xxpad</td>\n",
              "      <td>0</td>\n",
              "    </tr>\n",
              "    <tr>\n",
              "      <th>46</th>\n",
              "      <td>xxbos xxmaj pilot xxmaj dies xxmaj in xxmaj plane xxmaj crash xxmaj at xxmaj car xxmaj festival https : / / t.co / xxunk via @youtube # xxmaj crash # xxmaj aircraft # xxmaj airplane # xxmaj pilot # xxmaj death # xxmaj accident # xxunk xxpad xxpad xxpad xxpad xxpad xxpad xxpad xxpad xxpad xxpad xxpad xxpad xxpad xxpad xxpad xxpad xxpad xxpad xxpad</td>\n",
              "      <td>1</td>\n",
              "    </tr>\n",
              "    <tr>\n",
              "      <th>47</th>\n",
              "      <td>xxbos xxmaj new xxmaj ladies xxmaj shoulder xxmaj tote xxmaj handbag xxmaj women xxmaj cross xxmaj body xxmaj bag xxmaj faux xxmaj leather xxmaj fashion xxmaj purse - xxmaj full reû _ http : / / t.co / xxunk http : / / t.co / xxunk xxpad xxpad xxpad xxpad xxpad xxpad xxpad xxpad xxpad xxpad xxpad xxpad xxpad xxpad xxpad xxpad xxpad xxpad xxpad</td>\n",
              "      <td>0</td>\n",
              "    </tr>\n",
              "    <tr>\n",
              "      <th>48</th>\n",
              "      <td>xxbos ' planted xxunk years ago ' it was moved to xxup u - s . xxmaj this xxmaj xxunk xxmaj survived xxmaj hiroshima xxmaj but xxmaj its xxmaj story xxmaj was xxmaj nearly xxmaj lost http : / / t.co / xxunk xxunk via xxunk xxpad xxpad xxpad xxpad xxpad xxpad xxpad xxpad xxpad xxpad xxpad xxpad xxpad xxpad xxpad xxpad xxpad xxpad xxpad</td>\n",
              "      <td>1</td>\n",
              "    </tr>\n",
              "    <tr>\n",
              "      <th>49</th>\n",
              "      <td>xxbos 11 xxrep 3 0 xxup xxunk 30 xxup xxunk xxup fruit xxup variety xxup garden xxup kit xxup emergency xxup survival xxup xxunk xxup xxunk - xxmaj full reaû _ http : / / t.co / xxunk m http : / / t.co / xxunk xxpad xxpad xxpad xxpad xxpad xxpad xxpad xxpad xxpad xxpad xxpad xxpad xxpad xxpad xxpad xxpad xxpad xxpad xxpad</td>\n",
              "      <td>0</td>\n",
              "    </tr>\n",
              "    <tr>\n",
              "      <th>50</th>\n",
              "      <td>xxbos xxmaj to xxmaj all xxmaj the meat - loving xxmaj feminists xxmaj of xxmaj the xxmaj world xxmaj riot xxmaj grill xxmaj has xxmaj arrived : xxmaj pop quiz ! xxmaj which do you prefer : feminist … http : / / t.co / xxunk xxpad xxpad xxpad xxpad xxpad xxpad xxpad xxpad xxpad xxpad xxpad xxpad xxpad xxpad xxpad xxpad xxpad xxpad xxpad</td>\n",
              "      <td>0</td>\n",
              "    </tr>\n",
              "    <tr>\n",
              "      <th>51</th>\n",
              "      <td>xxbos xxmaj check xxmaj this xxmaj deal : http : / / t.co / xxunk xxmaj xxunk xxmaj health and xxmaj fitness xxmaj xxunk xxmaj lava xxmaj hot xxmaj stone xxmaj xxunk xxmaj kit with xxunk xxmaj xxunk _ http : / / t.co / xxunk xxpad xxpad xxpad xxpad xxpad xxpad xxpad xxpad xxpad xxpad xxpad xxpad xxpad xxpad xxpad xxpad xxpad xxpad xxpad</td>\n",
              "      <td>0</td>\n",
              "    </tr>\n",
              "    <tr>\n",
              "      <th>52</th>\n",
              "      <td>xxbos beat : xxunk xxup motor xxup vehicle xxup collision xxup hit xxup and xxup run at xxup xxunk xxup av s / s xxup charles xxup st reported on 8 / 5 / 2015 xxunk xxup pm xxmaj call # 15 xxrep 3 0 xxunk xxpad xxpad xxpad xxpad xxpad xxpad xxpad xxpad xxpad xxpad xxpad xxpad xxpad xxpad xxpad xxpad xxpad xxpad xxpad</td>\n",
              "      <td>1</td>\n",
              "    </tr>\n",
              "    <tr>\n",
              "      <th>53</th>\n",
              "      <td>xxbos xxmaj xxunk xxmaj media say ' us good . xxmaj putin bad . # xxup xxunk good xxmaj peace bad ' . xxup total xxup bs ! xxmaj leave xxmaj russia alone . xxup do n't xxup xxunk xxup with xxup obliteration . # xxunk xxpad xxpad xxpad xxpad xxpad xxpad xxpad xxpad xxpad xxpad xxpad xxpad xxpad xxpad xxpad xxpad xxpad xxpad xxpad</td>\n",
              "      <td>1</td>\n",
              "    </tr>\n",
              "    <tr>\n",
              "      <th>54</th>\n",
              "      <td>xxbos xxmaj new xxmaj women xxmaj handbag xxmaj faux xxmaj leather xxmaj ladies xxmaj shoulder xxmaj tote xxmaj cross xxmaj body xxmaj bag xxmaj large xxmaj satchel - xxmaj full reû _ http : / / t.co / xxunk http : / / t.co / xxunk xxpad xxpad xxpad xxpad xxpad xxpad xxpad xxpad xxpad xxpad xxpad xxpad xxpad xxpad xxpad xxpad xxpad xxpad xxpad</td>\n",
              "      <td>0</td>\n",
              "    </tr>\n",
              "    <tr>\n",
              "      <th>55</th>\n",
              "      <td>xxbos xxup wwi xxup wwii xxup japanese xxup army xxup navy xxup military xxup japan xxup leather xxup watch xxup war xxup mido xxup ww1 2 - xxmaj full read by ebay http : / / t.co / xxunk http : / / t.co / xxunk xxpad xxpad xxpad xxpad xxpad xxpad xxpad xxpad xxpad xxpad xxpad xxpad xxpad xxpad xxpad xxpad xxpad xxpad xxpad</td>\n",
              "      <td>0</td>\n",
              "    </tr>\n",
              "    <tr>\n",
              "      <th>56</th>\n",
              "      <td>xxbos xxmaj cell xxmaj phone xxmaj shop : http : / / t.co / xxunk # xxunk xxunk xxmaj lightning xxmaj connector xxunk xxmaj car xxmaj charger xxmaj for xxmaj apple 5 xxunk xxunk 6 6 + iû _ http : / / t.co / xxunk xxpad xxpad xxpad xxpad xxpad xxpad xxpad xxpad xxpad xxpad xxpad xxpad xxpad xxpad xxpad xxpad xxpad xxpad xxpad</td>\n",
              "      <td>1</td>\n",
              "    </tr>\n",
              "    <tr>\n",
              "      <th>57</th>\n",
              "      <td>xxbos xxunk xxup pm : xxmaj hazardous xxmaj weather xxmaj outlook ( http : / / t.co / xxunk ) : xxup no xxup hazardous xxup weather xxup is xxup expected xxup at xxup this xxup time … . http : / / t.co / xxunk xxpad xxpad xxpad xxpad xxpad xxpad xxpad xxpad xxpad xxpad xxpad xxpad xxpad xxpad xxpad xxpad xxpad xxpad xxpad</td>\n",
              "      <td>0</td>\n",
              "    </tr>\n",
              "    <tr>\n",
              "      <th>58</th>\n",
              "      <td>xxbos xxup xxunk xxmaj xxunk xxmaj xxunk xxmaj xxunk xxmaj army xxmaj xxunk xxmaj xxunk xxmaj xxunk xxmaj watch xxmaj sport xxmaj blue xxmaj xxunk xxmaj xxunk - xxmaj full reaû _ http : / / t.co / xxunk http : / / t.co / xxunk xxpad xxpad xxpad xxpad xxpad xxpad xxpad xxpad xxpad xxpad xxpad xxpad xxpad xxpad xxpad xxpad xxpad xxpad xxpad</td>\n",
              "      <td>0</td>\n",
              "    </tr>\n",
              "    <tr>\n",
              "      <th>59</th>\n",
              "      <td>xxbos xxmaj when xxmaj rescuers xxmaj found xxmaj him xxmaj he xxmaj was xxmaj barely xxmaj alive . xxmaj but xxmaj they xxmaj had xxmaj no xxmaj idea xxmaj he xxmaj was xxmaj xxunk xxmaj to xxup this ! http : / / t.co / xxunk xxpad xxpad xxpad xxpad xxpad xxpad xxpad xxpad xxpad xxpad xxpad xxpad xxpad xxpad xxpad xxpad xxpad xxpad xxpad</td>\n",
              "      <td>1</td>\n",
              "    </tr>\n",
              "    <tr>\n",
              "      <th>60</th>\n",
              "      <td>xxbos 320 [ ir ] xxup icemoon [ aftershock ] | http : / / t.co / xxunk | @djicemoon | # xxmaj dubstep # trapmusic # dnb # xxup edm # xxmaj dance # xxmaj icesû _ http : / / t.co / xxunk xxpad xxpad xxpad xxpad xxpad xxpad xxpad xxpad xxpad xxpad xxpad xxpad xxpad xxpad xxpad xxpad xxpad xxpad xxpad xxpad</td>\n",
              "      <td>0</td>\n",
              "    </tr>\n",
              "    <tr>\n",
              "      <th>61</th>\n",
              "      <td>xxbos 320 [ ir ] xxup icemoon [ aftershock ] | http : / / t.co / xxunk | @djicemoon | # xxmaj dubstep # trapmusic # dnb # xxup edm # xxmaj dance # xxmaj icesû _ http : / / t.co / xxunk xxpad xxpad xxpad xxpad xxpad xxpad xxpad xxpad xxpad xxpad xxpad xxpad xxpad xxpad xxpad xxpad xxpad xxpad xxpad xxpad</td>\n",
              "      <td>0</td>\n",
              "    </tr>\n",
              "    <tr>\n",
              "      <th>62</th>\n",
              "      <td>xxbos 320 [ ir ] xxup icemoon [ aftershock ] | http : / / t.co / xxunk | @djicemoon | # xxmaj dubstep # trapmusic # dnb # xxup edm # xxmaj dance # xxmaj icesû _ http : / / t.co / xxunk xxpad xxpad xxpad xxpad xxpad xxpad xxpad xxpad xxpad xxpad xxpad xxpad xxpad xxpad xxpad xxpad xxpad xxpad xxpad xxpad</td>\n",
              "      <td>0</td>\n",
              "    </tr>\n",
              "    <tr>\n",
              "      <th>63</th>\n",
              "      <td>xxbos xxup usgs xxup eq : m xxunk - 23 km s of xxmaj xxunk xxmaj palms xxmaj california : xxmaj time2015 - 08 - 05 xxunk xxup utc2015 - 08 - 05 16 : … http : / / t.co / xxunk # earthquake xxpad xxpad xxpad xxpad xxpad xxpad xxpad xxpad xxpad xxpad xxpad xxpad xxpad xxpad xxpad xxpad xxpad xxpad xxpad xxpad</td>\n",
              "      <td>1</td>\n",
              "    </tr>\n",
              "  </tbody>\n",
              "</table>"
            ],
            "text/plain": [
              "<IPython.core.display.HTML object>"
            ]
          },
          "metadata": {
            "tags": []
          }
        }
      ]
    },
    {
      "cell_type": "code",
      "metadata": {
        "id": "u895lqB1mbrd",
        "colab_type": "code",
        "colab": {
          "base_uri": "https://localhost:8080/",
          "height": 34
        },
        "outputId": "84a09dc4-ffde-41a8-cd1b-98e3f0948b53"
      },
      "source": [
        "len(dls.train_ds), len(dls.valid_ds)"
      ],
      "execution_count": 93,
      "outputs": [
        {
          "output_type": "execute_result",
          "data": {
            "text/plain": [
              "(6852, 761)"
            ]
          },
          "metadata": {
            "tags": []
          },
          "execution_count": 93
        }
      ]
    },
    {
      "cell_type": "code",
      "metadata": {
        "id": "mrOu5fMjmeEG",
        "colab_type": "code",
        "colab": {}
      },
      "source": [
        "torch.save(dls_lm, '/content/drive/My Drive/NLP/twitter/realOrNot_dls_cls.pkl')"
      ],
      "execution_count": 94,
      "outputs": []
    },
    {
      "cell_type": "code",
      "metadata": {
        "id": "f3reR0f3mgN0",
        "colab_type": "code",
        "colab": {}
      },
      "source": [
        "learn = text_classifier_learner(dls, AWD_LSTM, metrics=[accuracy, FBeta(beta=1)]).to_fp16()\n"
      ],
      "execution_count": 95,
      "outputs": []
    },
    {
      "cell_type": "code",
      "metadata": {
        "id": "v6Rb6RXG3XBn",
        "colab_type": "code",
        "colab": {
          "base_uri": "https://localhost:8080/",
          "height": 340
        },
        "outputId": "20eb76a7-784f-4637-c790-eee7fee1ee3b"
      },
      "source": [
        "learn.load_encoder('/content/drive/My Drive/NLP/twitter/models/finetuned')"
      ],
      "execution_count": 97,
      "outputs": [
        {
          "output_type": "error",
          "ename": "RuntimeError",
          "evalue": "ignored",
          "traceback": [
            "\u001b[0;31m---------------------------------------------------------------------------\u001b[0m",
            "\u001b[0;31mRuntimeError\u001b[0m                              Traceback (most recent call last)",
            "\u001b[0;32m<ipython-input-97-8e9790a4d9ea>\u001b[0m in \u001b[0;36m<module>\u001b[0;34m()\u001b[0m\n\u001b[0;32m----> 1\u001b[0;31m \u001b[0mlearn\u001b[0m\u001b[0;34m.\u001b[0m\u001b[0mload_encoder\u001b[0m\u001b[0;34m(\u001b[0m\u001b[0;34m'/content/drive/My Drive/NLP/twitter/models/finetuned'\u001b[0m\u001b[0;34m)\u001b[0m\u001b[0;34m\u001b[0m\u001b[0;34m\u001b[0m\u001b[0m\n\u001b[0m",
            "\u001b[0;32m/usr/local/lib/python3.6/dist-packages/fastai2/text/learner.py\u001b[0m in \u001b[0;36mload_encoder\u001b[0;34m(self, file, device)\u001b[0m\n\u001b[1;32m    104\u001b[0m         \u001b[0mdistrib_barrier\u001b[0m\u001b[0;34m(\u001b[0m\u001b[0;34m)\u001b[0m\u001b[0;34m\u001b[0m\u001b[0;34m\u001b[0m\u001b[0m\n\u001b[1;32m    105\u001b[0m         \u001b[0mwgts\u001b[0m \u001b[0;34m=\u001b[0m \u001b[0mtorch\u001b[0m\u001b[0;34m.\u001b[0m\u001b[0mload\u001b[0m\u001b[0;34m(\u001b[0m\u001b[0mjoin_path_file\u001b[0m\u001b[0;34m(\u001b[0m\u001b[0mfile\u001b[0m\u001b[0;34m,\u001b[0m\u001b[0mself\u001b[0m\u001b[0;34m.\u001b[0m\u001b[0mpath\u001b[0m\u001b[0;34m/\u001b[0m\u001b[0mself\u001b[0m\u001b[0;34m.\u001b[0m\u001b[0mmodel_dir\u001b[0m\u001b[0;34m,\u001b[0m \u001b[0mext\u001b[0m\u001b[0;34m=\u001b[0m\u001b[0;34m'.pth'\u001b[0m\u001b[0;34m)\u001b[0m\u001b[0;34m,\u001b[0m \u001b[0mmap_location\u001b[0m\u001b[0;34m=\u001b[0m\u001b[0mdevice\u001b[0m\u001b[0;34m)\u001b[0m\u001b[0;34m\u001b[0m\u001b[0;34m\u001b[0m\u001b[0m\n\u001b[0;32m--> 106\u001b[0;31m         \u001b[0mencoder\u001b[0m\u001b[0;34m.\u001b[0m\u001b[0mload_state_dict\u001b[0m\u001b[0;34m(\u001b[0m\u001b[0mclean_raw_keys\u001b[0m\u001b[0;34m(\u001b[0m\u001b[0mwgts\u001b[0m\u001b[0;34m)\u001b[0m\u001b[0;34m)\u001b[0m\u001b[0;34m\u001b[0m\u001b[0;34m\u001b[0m\u001b[0m\n\u001b[0m\u001b[1;32m    107\u001b[0m         \u001b[0mself\u001b[0m\u001b[0;34m.\u001b[0m\u001b[0mfreeze\u001b[0m\u001b[0;34m(\u001b[0m\u001b[0;34m)\u001b[0m\u001b[0;34m\u001b[0m\u001b[0;34m\u001b[0m\u001b[0m\n\u001b[1;32m    108\u001b[0m         \u001b[0;32mreturn\u001b[0m \u001b[0mself\u001b[0m\u001b[0;34m\u001b[0m\u001b[0;34m\u001b[0m\u001b[0m\n",
            "\u001b[0;32m/usr/local/lib/python3.6/dist-packages/torch/nn/modules/module.py\u001b[0m in \u001b[0;36mload_state_dict\u001b[0;34m(self, state_dict, strict)\u001b[0m\n\u001b[1;32m   1043\u001b[0m         \u001b[0;32mif\u001b[0m \u001b[0mlen\u001b[0m\u001b[0;34m(\u001b[0m\u001b[0merror_msgs\u001b[0m\u001b[0;34m)\u001b[0m \u001b[0;34m>\u001b[0m \u001b[0;36m0\u001b[0m\u001b[0;34m:\u001b[0m\u001b[0;34m\u001b[0m\u001b[0;34m\u001b[0m\u001b[0m\n\u001b[1;32m   1044\u001b[0m             raise RuntimeError('Error(s) in loading state_dict for {}:\\n\\t{}'.format(\n\u001b[0;32m-> 1045\u001b[0;31m                                self.__class__.__name__, \"\\n\\t\".join(error_msgs)))\n\u001b[0m\u001b[1;32m   1046\u001b[0m         \u001b[0;32mreturn\u001b[0m \u001b[0m_IncompatibleKeys\u001b[0m\u001b[0;34m(\u001b[0m\u001b[0mmissing_keys\u001b[0m\u001b[0;34m,\u001b[0m \u001b[0munexpected_keys\u001b[0m\u001b[0;34m)\u001b[0m\u001b[0;34m\u001b[0m\u001b[0;34m\u001b[0m\u001b[0m\n\u001b[1;32m   1047\u001b[0m \u001b[0;34m\u001b[0m\u001b[0m\n",
            "\u001b[0;31mRuntimeError\u001b[0m: Error(s) in loading state_dict for AWD_LSTM:\n\tsize mismatch for encoder.weight: copying a param with shape torch.Size([5832, 400]) from checkpoint, the shape in current model is torch.Size([4568, 400]).\n\tsize mismatch for encoder_dp.emb.weight: copying a param with shape torch.Size([5832, 400]) from checkpoint, the shape in current model is torch.Size([4568, 400])."
          ]
        }
      ]
    },
    {
      "cell_type": "code",
      "metadata": {
        "id": "hWhkDl35mitc",
        "colab_type": "code",
        "colab": {
          "base_uri": "https://localhost:8080/",
          "height": 80
        },
        "outputId": "6616e81b-6534-46c6-f673-c5b64d26517c"
      },
      "source": [
        "learn.fit_one_cycle(1, 1e-2)"
      ],
      "execution_count": 98,
      "outputs": [
        {
          "output_type": "display_data",
          "data": {
            "text/html": [
              "<table border=\"1\" class=\"dataframe\">\n",
              "  <thead>\n",
              "    <tr style=\"text-align: left;\">\n",
              "      <th>epoch</th>\n",
              "      <th>train_loss</th>\n",
              "      <th>valid_loss</th>\n",
              "      <th>accuracy</th>\n",
              "      <th>fbeta_score</th>\n",
              "      <th>time</th>\n",
              "    </tr>\n",
              "  </thead>\n",
              "  <tbody>\n",
              "    <tr>\n",
              "      <td>0</td>\n",
              "      <td>0.688824</td>\n",
              "      <td>0.472043</td>\n",
              "      <td>0.779238</td>\n",
              "      <td>0.715254</td>\n",
              "      <td>00:19</td>\n",
              "    </tr>\n",
              "  </tbody>\n",
              "</table>"
            ],
            "text/plain": [
              "<IPython.core.display.HTML object>"
            ]
          },
          "metadata": {
            "tags": []
          }
        }
      ]
    },
    {
      "cell_type": "code",
      "metadata": {
        "id": "7E_zdk9bmmEW",
        "colab_type": "code",
        "colab": {
          "base_uri": "https://localhost:8080/",
          "height": 80
        },
        "outputId": "3e71b80e-3f49-4ff3-a17e-2e91c2406b1f"
      },
      "source": [
        "learn.freeze_to(-2)\n",
        "learn.fit_one_cycle(1, slice(1e-3/(2.6**4),1e-2))"
      ],
      "execution_count": 99,
      "outputs": [
        {
          "output_type": "display_data",
          "data": {
            "text/html": [
              "<table border=\"1\" class=\"dataframe\">\n",
              "  <thead>\n",
              "    <tr style=\"text-align: left;\">\n",
              "      <th>epoch</th>\n",
              "      <th>train_loss</th>\n",
              "      <th>valid_loss</th>\n",
              "      <th>accuracy</th>\n",
              "      <th>fbeta_score</th>\n",
              "      <th>time</th>\n",
              "    </tr>\n",
              "  </thead>\n",
              "  <tbody>\n",
              "    <tr>\n",
              "      <td>0</td>\n",
              "      <td>0.615886</td>\n",
              "      <td>0.465478</td>\n",
              "      <td>0.781866</td>\n",
              "      <td>0.708772</td>\n",
              "      <td>00:20</td>\n",
              "    </tr>\n",
              "  </tbody>\n",
              "</table>"
            ],
            "text/plain": [
              "<IPython.core.display.HTML object>"
            ]
          },
          "metadata": {
            "tags": []
          }
        }
      ]
    },
    {
      "cell_type": "code",
      "metadata": {
        "id": "dF3TBDEImn5M",
        "colab_type": "code",
        "colab": {
          "base_uri": "https://localhost:8080/",
          "height": 80
        },
        "outputId": "aa44db4d-63de-42c4-b097-cbf4c0105ef3"
      },
      "source": [
        "learn.freeze_to(-3)\n",
        "learn.fit_one_cycle(1, slice(5e-3/(2.6**4),1e-2))"
      ],
      "execution_count": 100,
      "outputs": [
        {
          "output_type": "display_data",
          "data": {
            "text/html": [
              "<table border=\"1\" class=\"dataframe\">\n",
              "  <thead>\n",
              "    <tr style=\"text-align: left;\">\n",
              "      <th>epoch</th>\n",
              "      <th>train_loss</th>\n",
              "      <th>valid_loss</th>\n",
              "      <th>accuracy</th>\n",
              "      <th>fbeta_score</th>\n",
              "      <th>time</th>\n",
              "    </tr>\n",
              "  </thead>\n",
              "  <tbody>\n",
              "    <tr>\n",
              "      <td>0</td>\n",
              "      <td>0.505328</td>\n",
              "      <td>0.451481</td>\n",
              "      <td>0.806833</td>\n",
              "      <td>0.750424</td>\n",
              "      <td>00:24</td>\n",
              "    </tr>\n",
              "  </tbody>\n",
              "</table>"
            ],
            "text/plain": [
              "<IPython.core.display.HTML object>"
            ]
          },
          "metadata": {
            "tags": []
          }
        }
      ]
    },
    {
      "cell_type": "code",
      "metadata": {
        "id": "xFKHjPxOmqYT",
        "colab_type": "code",
        "colab": {
          "base_uri": "https://localhost:8080/",
          "height": 111
        },
        "outputId": "34fea9ce-fdb0-4ea3-8fc4-0e5368cacf44"
      },
      "source": [
        "learn.unfreeze()\n",
        "learn.fit_one_cycle(2, slice(1e-3/(2.6**4),3e-3))\n"
      ],
      "execution_count": 101,
      "outputs": [
        {
          "output_type": "display_data",
          "data": {
            "text/html": [
              "<table border=\"1\" class=\"dataframe\">\n",
              "  <thead>\n",
              "    <tr style=\"text-align: left;\">\n",
              "      <th>epoch</th>\n",
              "      <th>train_loss</th>\n",
              "      <th>valid_loss</th>\n",
              "      <th>accuracy</th>\n",
              "      <th>fbeta_score</th>\n",
              "      <th>time</th>\n",
              "    </tr>\n",
              "  </thead>\n",
              "  <tbody>\n",
              "    <tr>\n",
              "      <td>0</td>\n",
              "      <td>0.448591</td>\n",
              "      <td>0.459861</td>\n",
              "      <td>0.779238</td>\n",
              "      <td>0.735849</td>\n",
              "      <td>00:30</td>\n",
              "    </tr>\n",
              "    <tr>\n",
              "      <td>1</td>\n",
              "      <td>0.424546</td>\n",
              "      <td>0.465019</td>\n",
              "      <td>0.792378</td>\n",
              "      <td>0.732203</td>\n",
              "      <td>00:29</td>\n",
              "    </tr>\n",
              "  </tbody>\n",
              "</table>"
            ],
            "text/plain": [
              "<IPython.core.display.HTML object>"
            ]
          },
          "metadata": {
            "tags": []
          }
        }
      ]
    },
    {
      "cell_type": "code",
      "metadata": {
        "id": "Vl_W3zwtmtV_",
        "colab_type": "code",
        "colab": {}
      },
      "source": [
        "learn.save('final_model')"
      ],
      "execution_count": 103,
      "outputs": []
    },
    {
      "cell_type": "code",
      "metadata": {
        "id": "v30ZIwEnoEsQ",
        "colab_type": "code",
        "colab": {}
      },
      "source": [
        ""
      ],
      "execution_count": null,
      "outputs": []
    }
  ]
}